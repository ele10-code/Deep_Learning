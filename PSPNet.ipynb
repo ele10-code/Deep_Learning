{
 "cells": [
  {
   "cell_type": "code",
   "execution_count": 1,
   "metadata": {},
   "outputs": [
    {
     "name": "stderr",
     "output_type": "stream",
     "text": [
      "2023-02-22 10:38:48.958839: I tensorflow/core/platform/cpu_feature_guard.cc:193] This TensorFlow binary is optimized with oneAPI Deep Neural Network Library (oneDNN) to use the following CPU instructions in performance-critical operations:  AVX2 FMA\n",
      "To enable them in other operations, rebuild TensorFlow with the appropriate compiler flags.\n",
      "2023-02-22 10:38:49.715401: W tensorflow/stream_executor/platform/default/dso_loader.cc:64] Could not load dynamic library 'libcudart.so.11.0'; dlerror: libcudart.so.11.0: cannot open shared object file: No such file or directory\n",
      "2023-02-22 10:38:49.715539: I tensorflow/stream_executor/cuda/cudart_stub.cc:29] Ignore above cudart dlerror if you do not have a GPU set up on your machine.\n",
      "2023-02-22 10:38:50.094609: E tensorflow/stream_executor/cuda/cuda_blas.cc:2981] Unable to register cuBLAS factory: Attempting to register factory for plugin cuBLAS when one has already been registered\n",
      "2023-02-22 10:38:53.216073: W tensorflow/stream_executor/platform/default/dso_loader.cc:64] Could not load dynamic library 'libnvinfer.so.7'; dlerror: libnvinfer.so.7: cannot open shared object file: No such file or directory\n",
      "2023-02-22 10:38:53.216304: W tensorflow/stream_executor/platform/default/dso_loader.cc:64] Could not load dynamic library 'libnvinfer_plugin.so.7'; dlerror: libnvinfer_plugin.so.7: cannot open shared object file: No such file or directory\n",
      "2023-02-22 10:38:53.216325: W tensorflow/compiler/tf2tensorrt/utils/py_utils.cc:38] TF-TRT Warning: Cannot dlopen some TensorRT libraries. If you would like to use Nvidia GPU with TensorRT, please make sure the missing libraries mentioned above are installed properly.\n"
     ]
    },
    {
     "name": "stdout",
     "output_type": "stream",
     "text": [
      "Segmentation Models: using `keras` framework.\n"
     ]
    }
   ],
   "source": [
    "import segmentation_models as sm"
   ]
  },
  {
   "cell_type": "code",
   "execution_count": 2,
   "metadata": {},
   "outputs": [],
   "source": [
    "# importing required packages...\n",
    "import os\n",
    "import cv2\n",
    "import numpy as np\n",
    "import pandas as pd\n",
    "import matplotlib.pyplot as plt\n",
    "#import seaborn as sns\n",
    "from keras.preprocessing.image import ImageDataGenerator\n",
    "from matplotlib import pyplot as plt\n",
    "#from patchify import patchify\n",
    "from PIL import Image\n",
    "#import segmentation_models as sm\n",
    "import tensorflow as tf\n",
    "#from tensorflow.keras.metrics import MeanIoU\n",
    "from sklearn.preprocessing import MinMaxScaler, StandardScaler\n",
    "#from tensorflow.keras.utils import to_categorical\n",
    "from sklearn.model_selection import train_test_split\n",
    "#from tensorflow.keras.models import load_model\n",
    "from tqdm import tqdm\n",
    "from keras.utils import normalize\n",
    "from tensorflow import keras\n",
    "from keras.utils import to_categorical\n",
    "import random\n",
    "import segmentation_models as sm #pip install segmentation_models\n",
    "from keras.models import Model, load_model\n",
    "from keras.layers import Input\n",
    "from keras.layers.core import Dropout, Lambda\n",
    "from keras.layers.convolutional import Conv2D, Conv2DTranspose\n",
    "from keras.layers.pooling import MaxPooling2D\n",
    "from keras.layers import concatenate\n",
    "from keras.callbacks import EarlyStopping, ModelCheckpoint\n",
    "from keras import backend as K\n",
    "from tensorflow.keras import layers\n",
    "import pickle\n",
    "from typing import Tuple\n",
    "#from tensorflow.keras.callbacks import Callback, ModelCheckpoint,  EarlyStopping\n",
    "#from tensorflow.keras.optimizers import SGD, Adam"
   ]
  },
  {
   "cell_type": "code",
   "execution_count": 3,
   "metadata": {},
   "outputs": [],
   "source": [
    "\n",
    "keras.backend.set_image_data_format('channels_last')\n",
    "# or keras.backend.set_image_data_format('channels_first')"
   ]
  },
  {
   "cell_type": "code",
   "execution_count": 4,
   "metadata": {},
   "outputs": [],
   "source": [
    "def resize_with_pad(image: np.array, \n",
    "                    new_shape: Tuple[int, int], \n",
    "                    padding_color: Tuple[int] = (0,0,0)) -> np.array:\n",
    "    \"\"\"Maintains aspect ratio and resizes with padding.\n",
    "    Params:\n",
    "        image: Image to be resized.\n",
    "        new_shape: Expected (width, height) of new image.\n",
    "        padding_color: Tuple in BGR of padding color\n",
    "    Returns:\n",
    "        image: Resized image with padding\n",
    "    \"\"\"\n",
    "    original_shape = (image.shape[1], image.shape[0])\n",
    "    ratio = float(max(new_shape))/max(original_shape)\n",
    "    new_size = tuple([int(x*ratio) for x in original_shape])\n",
    "    image = cv2.resize(image, new_size)\n",
    "    delta_w = new_shape[0] - new_size[0]\n",
    "    delta_h = new_shape[1] - new_size[1]\n",
    "    top, bottom = delta_h//2, delta_h-(delta_h//2)\n",
    "    left, right = delta_w//2, delta_w-(delta_w//2)\n",
    "    image = cv2.copyMakeBorder(image, top, bottom, left, right, cv2.BORDER_CONSTANT, value=padding_color)\n",
    "    return image"
   ]
  },
  {
   "cell_type": "code",
   "execution_count": 5,
   "metadata": {},
   "outputs": [],
   "source": [
    "# loading image data...\n",
    "def data_loader(folder_dir,sx,sy):\n",
    "    image_dataset = []\n",
    "    for images in os.listdir(folder_dir):\n",
    "        path = os.path.join(folder_dir,images)\n",
    "        #print(path)\n",
    "        image = cv2.imread(path)\n",
    "        #image = cv2.cvtColor(image,cv2.COLOR_BGR2RGB)\n",
    "        image = cv2.resize(image, (sx,sy))\n",
    "        #image = Image.fromarray(image)\n",
    "        #image = np.array(image)\n",
    "        image_dataset.append(image)\n",
    "    return image_dataset\n"
   ]
  },
  {
   "cell_type": "code",
   "execution_count": 6,
   "metadata": {},
   "outputs": [],
   "source": [
    "# loading image data...\n",
    "def mask_loader(folder_dir,sx,sy):\n",
    "    image_dataset = []\n",
    "    for images in os.listdir(folder_dir):\n",
    "        path = os.path.join(folder_dir,images)\n",
    "        image = cv2.imread(path, 0)\n",
    "        image = cv2.resize(image, (sx,sy))\n",
    "        image_dataset.append(image)\n",
    "    return image_dataset"
   ]
  },
  {
   "cell_type": "code",
   "execution_count": 7,
   "metadata": {},
   "outputs": [
    {
     "name": "stderr",
     "output_type": "stream",
     "text": [
      "libpng warning: iCCP: known incorrect sRGB profile\n",
      "libpng warning: iCCP: known incorrect sRGB profile\n",
      "libpng warning: iCCP: known incorrect sRGB profile\n",
      "libpng warning: iCCP: known incorrect sRGB profile\n",
      "libpng warning: iCCP: known incorrect sRGB profile\n",
      "libpng warning: iCCP: known incorrect sRGB profile\n",
      "libpng warning: iCCP: known incorrect sRGB profile\n",
      "libpng warning: iCCP: known incorrect sRGB profile\n",
      "libpng warning: iCCP: known incorrect sRGB profile\n",
      "libpng warning: iCCP: known incorrect sRGB profile\n",
      "libpng warning: iCCP: known incorrect sRGB profile\n",
      "libpng warning: iCCP: known incorrect sRGB profile\n",
      "libpng warning: iCCP: known incorrect sRGB profile\n",
      "libpng warning: iCCP: known incorrect sRGB profile\n",
      "libpng warning: iCCP: known incorrect sRGB profile\n",
      "libpng warning: iCCP: known incorrect sRGB profile\n",
      "libpng warning: iCCP: known incorrect sRGB profile\n",
      "libpng warning: iCCP: known incorrect sRGB profile\n",
      "libpng warning: iCCP: known incorrect sRGB profile\n",
      "libpng warning: iCCP: known incorrect sRGB profile\n",
      "libpng warning: iCCP: known incorrect sRGB profile\n",
      "libpng warning: iCCP: known incorrect sRGB profile\n",
      "libpng warning: iCCP: known incorrect sRGB profile\n",
      "libpng warning: iCCP: known incorrect sRGB profile\n",
      "libpng warning: iCCP: known incorrect sRGB profile\n",
      "libpng warning: iCCP: known incorrect sRGB profile\n",
      "libpng warning: iCCP: known incorrect sRGB profile\n",
      "libpng warning: iCCP: known incorrect sRGB profile\n",
      "libpng warning: iCCP: known incorrect sRGB profile\n",
      "libpng warning: iCCP: known incorrect sRGB profile\n",
      "libpng warning: iCCP: known incorrect sRGB profile\n",
      "libpng warning: iCCP: known incorrect sRGB profile\n",
      "libpng warning: iCCP: known incorrect sRGB profile\n",
      "libpng warning: iCCP: known incorrect sRGB profile\n",
      "libpng warning: iCCP: known incorrect sRGB profile\n",
      "libpng warning: iCCP: known incorrect sRGB profile\n",
      "libpng warning: iCCP: known incorrect sRGB profile\n",
      "libpng warning: iCCP: known incorrect sRGB profile\n",
      "libpng warning: iCCP: known incorrect sRGB profile\n",
      "libpng warning: iCCP: known incorrect sRGB profile\n",
      "libpng warning: iCCP: known incorrect sRGB profile\n",
      "libpng warning: iCCP: known incorrect sRGB profile\n",
      "libpng warning: iCCP: known incorrect sRGB profile\n",
      "libpng warning: iCCP: known incorrect sRGB profile\n",
      "libpng warning: iCCP: known incorrect sRGB profile\n"
     ]
    }
   ],
   "source": [
    "parent = os.path.abspath(os.path.join(os.getcwd(), os.pardir)) #parent directory\n",
    "img_folder = os.path.join(\"..\", \"car-segmentation\", \"images\")\n",
    "masks_folder = os.path.join(\"..\", \"car-segmentation\", \"masks\")\n",
    "n_classes = 5 # class for segmentation\n",
    "size_x = 128\n",
    "size_y = 128\n",
    "\n",
    "image_dataset = data_loader(img_folder,size_x,size_y) # real images...\n",
    "mask_dataset = mask_loader(masks_folder,size_x,size_y) # masked images...\n",
    "image_dataset = np.array(image_dataset)\n",
    "#image_dataset = np.expand_dims(image_dataset, axis = 3) # per creare la giusta struttura\n",
    "mask_dataset = np.array(mask_dataset)\n",
    "mask_dataset_encoded = np.expand_dims(mask_dataset, axis = 3)\n"
   ]
  },
  {
   "cell_type": "code",
   "execution_count": 8,
   "metadata": {},
   "outputs": [
    {
     "name": "stdout",
     "output_type": "stream",
     "text": [
      "(1688, 128, 128, 3)\n",
      "(1688, 128, 128, 1)\n",
      "Image shape:  (128, 128, 3)\n",
      "Mask shape:  (128, 128, 1)\n",
      "Max pixel value in image is:  255\n",
      "Labels in the mask are :  [0 1 2 3 4]\n"
     ]
    }
   ],
   "source": [
    "print(image_dataset.shape)\n",
    "print(mask_dataset_encoded.shape)\n",
    "print(\"Image shape: \", image_dataset[0].shape)\n",
    "print(\"Mask shape: \", mask_dataset_encoded[0].shape)\n",
    "print(\"Max pixel value in image is: \", image_dataset.max()) #255 perchè non è normalizzata\n",
    "print(\"Labels in the mask are : \", np.unique(mask_dataset_encoded)) # 0,1,2,3,4"
   ]
  },
  {
   "cell_type": "code",
   "execution_count": 9,
   "metadata": {},
   "outputs": [],
   "source": [
    "\n",
    "#Normalize images (pixel diventano tra 0 e 1)\n",
    "image_dataset = image_dataset /255."
   ]
  },
  {
   "cell_type": "code",
   "execution_count": 10,
   "metadata": {},
   "outputs": [
    {
     "name": "stdout",
     "output_type": "stream",
     "text": [
      "Dimensione training set: 1080\n",
      "Dimensione val set: 270\n",
      "Dimensione test set: 338\n"
     ]
    }
   ],
   "source": [
    "#Split training datafrom sklearn.model_selection import train_test_split\n",
    "X_train, X_test, y_train, y_test = train_test_split(image_dataset, mask_dataset_encoded, test_size = 0.2, random_state = 42)\n",
    "X_train, X_val, y_train, y_val = train_test_split(X_train, y_train, test_size = 0.2, random_state = 42)\n",
    "print(f\"Dimensione training set: {len(X_train)}\\nDimensione val set: {len(X_val)}\\nDimensione test set: {len(X_test)}\")    "
   ]
  },
  {
   "cell_type": "code",
   "execution_count": 11,
   "metadata": {},
   "outputs": [
    {
     "name": "stdout",
     "output_type": "stream",
     "text": [
      "shape precedente:  (1080, 128, 128, 1)\n",
      "shape attuale:  (1080, 128, 128, 5)\n"
     ]
    }
   ],
   "source": [
    "#Le maschere devono avere il formato dell'ultimo layer del modello (256x256x5)\n",
    "from keras.utils import to_categorical\n",
    "train_masks_cat = to_categorical(y_train, num_classes=n_classes)\n",
    "y_train_cat = train_masks_cat.reshape((y_train.shape[0], y_train.shape[1], y_train.shape[2], n_classes))\n",
    "\n",
    "test_masks_cat = to_categorical(y_test, num_classes=n_classes)\n",
    "y_test_cat = test_masks_cat.reshape((y_test.shape[0], y_test.shape[1], y_test.shape[2], n_classes))\n",
    "\n",
    "val_masks_cat = to_categorical(y_val, num_classes=n_classes)\n",
    "y_val_cat =val_masks_cat.reshape((y_val.shape[0], y_val.shape[1], y_val.shape[2], n_classes))\n",
    "print(\"shape precedente: \", y_train.shape)\n",
    "print(\"shape attuale: \", y_train_cat.shape)\n"
   ]
  },
  {
   "cell_type": "code",
   "execution_count": 12,
   "metadata": {},
   "outputs": [
    {
     "data": {
      "text/plain": [
       "<matplotlib.image.AxesImage at 0x7f46deff6050>"
      ]
     },
     "execution_count": 12,
     "metadata": {},
     "output_type": "execute_result"
    },
    {
     "data": {
      "image/png": "[encoded data removed]",
      "text/plain": [
       "<Figure size 1200x800 with 2 Axes>"
      ]
     },
     "metadata": {},
     "output_type": "display_data"
    }
   ],
   "source": [
    "#Sanity check delle immagini\n",
    "n = random.randint(0, len(X_test)-1)\n",
    "test_img = X_train[n]\n",
    "ground_truth=y_train[n]\n",
    "\n",
    "\n",
    "plt.figure(figsize=(12, 8))\n",
    "plt.subplot(231)\n",
    "plt.title('Testing Image')\n",
    "plt.imshow(test_img[:,:,0], cmap='gray')\n",
    "plt.subplot(232)\n",
    "plt.title('Testing Label')\n",
    "plt.imshow(ground_truth[:,:,0], cmap='jet')"
   ]
  },
  {
   "cell_type": "code",
   "execution_count": 13,
   "metadata": {},
   "outputs": [
    {
     "data": {
      "text/plain": [
       "\"# Building Unet by dividing encoder and decoder into blocks\\n\\nfrom keras.models import Model\\nfrom keras.layers import Input,Reshape, LeakyReLU,Add,ReLU,GlobalAveragePooling2D, MaxPooling2D, UpSampling2D, concatenate, Conv2DTranspose, BatchNormalization, Dropout, Lambda\\nfrom keras.optimizers import Adam\\nfrom keras.layers import Activation, MaxPool2D, Concatenate\\ndef conv_block(X,filters,block):\\n    # resiudal block with dilated convolutions\\n    # add skip connection at last after doing convoluion operation to input X\\n    \\n    b = 'block_'+str(block)+'_'\\n    f1,f2,f3 = filters\\n    X_skip = X\\n    # block_a\\n \\n    X = Conv2D(filters=f1,kernel_size=(1,1),dilation_rate=(1,1),\\n                      padding='same',kernel_initializer='he_normal',name=b+'a')(X)\\n    X = BatchNormalization(name=b+'batch_norm_a')(X)\\n    X = LeakyReLU(alpha=0.2,name=b+'leakyrelu_a')(X)\\n    # block_b\\n    X = Conv2D(filters=f2,kernel_size=(3,3),dilation_rate=(2,2),\\n                      padding='same',kernel_initializer='he_normal',name=b+'b')(X)\\n    X = BatchNormalization(name=b+'batch_norm_b')(X)\\n    X = LeakyReLU(alpha=0.2,name=b+'leakyrelu_b')(X)\\n    # block_c\\n    X = Conv2D(filters=f3,kernel_size=(1,1),dilation_rate=(1,1),\\n                      padding='same',kernel_initializer='he_normal',name=b+'c')(X)\\n    X = BatchNormalization(name=b+'batch_norm_c')(X)\\n    # skip_conv\\n    X_skip = Conv2D(filters=f3,kernel_size=(3,3),padding='same',name=b+'skip_conv')(X_skip)\\n    X_skip = BatchNormalization(name=b+'batch_norm_skip_conv')(X_skip)\\n    # block_c + skip_conv\\n    X = Add(name=b+'add')([X,X_skip])\\n    X = ReLU(name=b+'relu')(X)\\n    return X\\n    \\ndef base_feature_maps(input_layer):\\n    # base covolution module to get input image feature maps \\n    \\n    # block_1\\n    base = conv_block(input_layer,[32,32,64],'1')\\n    # block_2\\n    base = conv_block(base,[64,64,128],'2')\\n    # block_3\\n    base = conv_block(base,[128,128,256],'3')\\n    return base\\n\\nfrom keras.layers import AveragePooling2D\\n\\ndef pyramid_feature_maps(input_layer):\\n    # pyramid pooling module\\n    \\n    base = base_feature_maps(input_layer)\\n    # red\\n    red = GlobalAveragePooling2D(name='red_pool')(base)\\n    red = tf.keras.layers.Reshape((1,1,256))(red)\\n    red = Conv2D(filters=64,kernel_size=(1,1),name='red_1_by_1')(red)\\n    red = UpSampling2D(size=256,interpolation='bilinear',name='red_upsampling')(red)\\n    # yellow\\n    yellow = AveragePooling2D(pool_size=(2,2),name='yellow_pool')(base)\\n    yellow = Conv2D(filters=64,kernel_size=(1,1),name='yellow_1_by_1')(yellow)\\n    yellow = UpSampling2D(size=2,interpolation='bilinear',name='yellow_upsampling')(yellow)\\n    # blue\\n    blue = AveragePooling2D(pool_size=(4,4),name='blue_pool')(base)\\n    blue = Conv2D(filters=64,kernel_size=(1,1),name='blue_1_by_1')(blue)\\n    blue = UpSampling2D(size=4,interpolation='bilinear',name='blue_upsampling')(blue)\\n    # green\\n    green = AveragePooling2D(pool_size=(8,8),name='green_pool')(base)\\n    green = Conv2D(filters=64,kernel_size=(1,1),name='green_1_by_1')(green)\\n    green = UpSampling2D(size=8,interpolation='bilinear',name='green_upsampling')(green)\\n    # base + red + yellow + blue + green\\n    return tf.keras.layers.concatenate([base,red,yellow,blue,green])\\n\\ndef last_conv_module(input_layer):\\n    X = pyramid_feature_maps(input_layer)\\n    X = Conv2D(filters=3,kernel_size=3,padding='same',name='last_conv_3_by_3')(X)\\n    X = BatchNormalization(name='last_conv_3_by_3_batch_norm')(X)\\n    X = Activation('sigmoid',name='last_conv_relu')(X)\\n    X = tf.keras.layers.Flatten(name='last_conv_flatten')(X)\\n    return X\""
      ]
     },
     "execution_count": 13,
     "metadata": {},
     "output_type": "execute_result"
    }
   ],
   "source": [
    "\"\"\"# Building Unet by dividing encoder and decoder into blocks\n",
    "\n",
    "from keras.models import Model\n",
    "from keras.layers import Input,Reshape, LeakyReLU,Add,ReLU,GlobalAveragePooling2D, MaxPooling2D, UpSampling2D, concatenate, Conv2DTranspose, BatchNormalization, Dropout, Lambda\n",
    "from keras.optimizers import Adam\n",
    "from keras.layers import Activation, MaxPool2D, Concatenate\n",
    "def conv_block(X,filters,block):\n",
    "    # resiudal block with dilated convolutions\n",
    "    # add skip connection at last after doing convoluion operation to input X\n",
    "    \n",
    "    b = 'block_'+str(block)+'_'\n",
    "    f1,f2,f3 = filters\n",
    "    X_skip = X\n",
    "    # block_a\n",
    " \n",
    "    X = Conv2D(filters=f1,kernel_size=(1,1),dilation_rate=(1,1),\n",
    "                      padding='same',kernel_initializer='he_normal',name=b+'a')(X)\n",
    "    X = BatchNormalization(name=b+'batch_norm_a')(X)\n",
    "    X = LeakyReLU(alpha=0.2,name=b+'leakyrelu_a')(X)\n",
    "    # block_b\n",
    "    X = Conv2D(filters=f2,kernel_size=(3,3),dilation_rate=(2,2),\n",
    "                      padding='same',kernel_initializer='he_normal',name=b+'b')(X)\n",
    "    X = BatchNormalization(name=b+'batch_norm_b')(X)\n",
    "    X = LeakyReLU(alpha=0.2,name=b+'leakyrelu_b')(X)\n",
    "    # block_c\n",
    "    X = Conv2D(filters=f3,kernel_size=(1,1),dilation_rate=(1,1),\n",
    "                      padding='same',kernel_initializer='he_normal',name=b+'c')(X)\n",
    "    X = BatchNormalization(name=b+'batch_norm_c')(X)\n",
    "    # skip_conv\n",
    "    X_skip = Conv2D(filters=f3,kernel_size=(3,3),padding='same',name=b+'skip_conv')(X_skip)\n",
    "    X_skip = BatchNormalization(name=b+'batch_norm_skip_conv')(X_skip)\n",
    "    # block_c + skip_conv\n",
    "    X = Add(name=b+'add')([X,X_skip])\n",
    "    X = ReLU(name=b+'relu')(X)\n",
    "    return X\n",
    "    \n",
    "def base_feature_maps(input_layer):\n",
    "    # base covolution module to get input image feature maps \n",
    "    \n",
    "    # block_1\n",
    "    base = conv_block(input_layer,[32,32,64],'1')\n",
    "    # block_2\n",
    "    base = conv_block(base,[64,64,128],'2')\n",
    "    # block_3\n",
    "    base = conv_block(base,[128,128,256],'3')\n",
    "    return base\n",
    "\n",
    "from keras.layers import AveragePooling2D\n",
    "\n",
    "def pyramid_feature_maps(input_layer):\n",
    "    # pyramid pooling module\n",
    "    \n",
    "    base = base_feature_maps(input_layer)\n",
    "    # red\n",
    "    red = GlobalAveragePooling2D(name='red_pool')(base)\n",
    "    red = tf.keras.layers.Reshape((1,1,256))(red)\n",
    "    red = Conv2D(filters=64,kernel_size=(1,1),name='red_1_by_1')(red)\n",
    "    red = UpSampling2D(size=256,interpolation='bilinear',name='red_upsampling')(red)\n",
    "    # yellow\n",
    "    yellow = AveragePooling2D(pool_size=(2,2),name='yellow_pool')(base)\n",
    "    yellow = Conv2D(filters=64,kernel_size=(1,1),name='yellow_1_by_1')(yellow)\n",
    "    yellow = UpSampling2D(size=2,interpolation='bilinear',name='yellow_upsampling')(yellow)\n",
    "    # blue\n",
    "    blue = AveragePooling2D(pool_size=(4,4),name='blue_pool')(base)\n",
    "    blue = Conv2D(filters=64,kernel_size=(1,1),name='blue_1_by_1')(blue)\n",
    "    blue = UpSampling2D(size=4,interpolation='bilinear',name='blue_upsampling')(blue)\n",
    "    # green\n",
    "    green = AveragePooling2D(pool_size=(8,8),name='green_pool')(base)\n",
    "    green = Conv2D(filters=64,kernel_size=(1,1),name='green_1_by_1')(green)\n",
    "    green = UpSampling2D(size=8,interpolation='bilinear',name='green_upsampling')(green)\n",
    "    # base + red + yellow + blue + green\n",
    "    return tf.keras.layers.concatenate([base,red,yellow,blue,green])\n",
    "\n",
    "def last_conv_module(input_layer):\n",
    "    X = pyramid_feature_maps(input_layer)\n",
    "    X = Conv2D(filters=3,kernel_size=3,padding='same',name='last_conv_3_by_3')(X)\n",
    "    X = BatchNormalization(name='last_conv_3_by_3_batch_norm')(X)\n",
    "    X = Activation('sigmoid',name='last_conv_relu')(X)\n",
    "    X = tf.keras.layers.Flatten(name='last_conv_flatten')(X)\n",
    "    return X\"\"\""
   ]
  },
  {
   "cell_type": "code",
   "execution_count": 14,
   "metadata": {},
   "outputs": [],
   "source": [
    "# multiclass segmentation with non overlapping class masks (your classes + background)\n",
    "# define model\n",
    "BACKBONE='vgg16'\n",
    "preprocess_input = sm.get_preprocessing(BACKBONE)\n",
    "# preprocess input\n",
    "X_train = preprocess_input(X_train)\n",
    "X_val = preprocess_input(X_val)"
   ]
  },
  {
   "cell_type": "code",
   "execution_count": 15,
   "metadata": {},
   "outputs": [
    {
     "name": "stdout",
     "output_type": "stream",
     "text": [
      "(128, 128, 3)\n",
      "(1080, 128, 128, 3)\n",
      "(338, 128, 128, 3)\n",
      "(1080, 128, 128, 5)\n",
      "(338, 128, 128, 5)\n"
     ]
    }
   ],
   "source": [
    "IMG_HEIGHT = X_train.shape[1]\n",
    "IMG_WIDTH  = X_train.shape[2]\n",
    "IMG_CHANNELS = X_train.shape[3]\n",
    "input_shape = (IMG_HEIGHT, IMG_WIDTH, IMG_CHANNELS)\n",
    "print(input_shape)\n",
    "print(X_train.shape)\n",
    "print(X_test.shape)\n",
    "print(y_train_cat.shape)\n",
    "print(y_test_cat.shape)"
   ]
  },
  {
   "cell_type": "code",
   "execution_count": 20,
   "metadata": {},
   "outputs": [
    {
     "ename": "ValueError",
     "evalue": "Wrong shape (128, 128, 3), input H and W should be divisible by `48`",
     "output_type": "error",
     "traceback": [
      "\u001b[0;31m---------------------------------------------------------------------------\u001b[0m",
      "\u001b[0;31mValueError\u001b[0m                                Traceback (most recent call last)",
      "Cell \u001b[0;32mIn [20], line 2\u001b[0m\n\u001b[1;32m      1\u001b[0m \u001b[39m# define model\u001b[39;00m\n\u001b[0;32m----> 2\u001b[0m model \u001b[39m=\u001b[39m sm\u001b[39m.\u001b[39;49mPSPNet(BACKBONE,input_shape\u001b[39m=\u001b[39;49minput_shape, classes\u001b[39m=\u001b[39;49mn_classes, activation\u001b[39m=\u001b[39;49m\u001b[39m'\u001b[39;49m\u001b[39msoftmax\u001b[39;49m\u001b[39m'\u001b[39;49m, encoder_weights\u001b[39m=\u001b[39;49m\u001b[39m'\u001b[39;49m\u001b[39mimagenet\u001b[39;49m\u001b[39m'\u001b[39;49m)\n\u001b[1;32m      3\u001b[0m model\u001b[39m.\u001b[39mcompile(\u001b[39m'\u001b[39m\u001b[39mAdam\u001b[39m\u001b[39m'\u001b[39m, loss\u001b[39m=\u001b[39msm\u001b[39m.\u001b[39mlosses\u001b[39m.\u001b[39mbce_jaccard_loss, metrics\u001b[39m=\u001b[39m[sm\u001b[39m.\u001b[39mmetrics\u001b[39m.\u001b[39miou_score],)\n\u001b[1;32m      5\u001b[0m \u001b[39mprint\u001b[39m(model\u001b[39m.\u001b[39msummary())\n",
      "File \u001b[0;32m~/.local/lib/python3.10/site-packages/segmentation_models/__init__.py:34\u001b[0m, in \u001b[0;36minject_global_submodules.<locals>.wrapper\u001b[0;34m(*args, **kwargs)\u001b[0m\n\u001b[1;32m     32\u001b[0m kwargs[\u001b[39m'\u001b[39m\u001b[39mmodels\u001b[39m\u001b[39m'\u001b[39m] \u001b[39m=\u001b[39m _KERAS_MODELS\n\u001b[1;32m     33\u001b[0m kwargs[\u001b[39m'\u001b[39m\u001b[39mutils\u001b[39m\u001b[39m'\u001b[39m] \u001b[39m=\u001b[39m _KERAS_UTILS\n\u001b[0;32m---> 34\u001b[0m \u001b[39mreturn\u001b[39;00m func(\u001b[39m*\u001b[39;49margs, \u001b[39m*\u001b[39;49m\u001b[39m*\u001b[39;49mkwargs)\n",
      "File \u001b[0;32m~/.local/lib/python3.10/site-packages/segmentation_models/models/pspnet.py:203\u001b[0m, in \u001b[0;36mPSPNet\u001b[0;34m(backbone_name, input_shape, classes, activation, weights, encoder_weights, encoder_freeze, downsample_factor, psp_conv_filters, psp_pooling_type, psp_use_batchnorm, psp_dropout, **kwargs)\u001b[0m\n\u001b[1;32m    200\u001b[0m backend, layers, models, keras_utils \u001b[39m=\u001b[39m get_submodules_from_kwargs(kwargs)\n\u001b[1;32m    202\u001b[0m \u001b[39m# control image input shape\u001b[39;00m\n\u001b[0;32m--> 203\u001b[0m check_input_shape(input_shape, downsample_factor)\n\u001b[1;32m    205\u001b[0m backbone \u001b[39m=\u001b[39m Backbones\u001b[39m.\u001b[39mget_backbone(\n\u001b[1;32m    206\u001b[0m     backbone_name,\n\u001b[1;32m    207\u001b[0m     input_shape\u001b[39m=\u001b[39minput_shape,\n\u001b[0;32m   (...)\u001b[0m\n\u001b[1;32m    210\u001b[0m     \u001b[39m*\u001b[39m\u001b[39m*\u001b[39mkwargs\n\u001b[1;32m    211\u001b[0m )\n\u001b[1;32m    213\u001b[0m feature_layers \u001b[39m=\u001b[39m Backbones\u001b[39m.\u001b[39mget_feature_layers(backbone_name, n\u001b[39m=\u001b[39m\u001b[39m3\u001b[39m)\n",
      "File \u001b[0;32m~/.local/lib/python3.10/site-packages/segmentation_models/models/pspnet.py:39\u001b[0m, in \u001b[0;36mcheck_input_shape\u001b[0;34m(input_shape, factor)\u001b[0m\n\u001b[1;32m     33\u001b[0m is_wrong_shape \u001b[39m=\u001b[39m (\n\u001b[1;32m     34\u001b[0m         h \u001b[39m%\u001b[39m min_size \u001b[39m!=\u001b[39m \u001b[39m0\u001b[39m \u001b[39mor\u001b[39;00m w \u001b[39m%\u001b[39m min_size \u001b[39m!=\u001b[39m \u001b[39m0\u001b[39m \u001b[39mor\u001b[39;00m\n\u001b[1;32m     35\u001b[0m         h \u001b[39m<\u001b[39m min_size \u001b[39mor\u001b[39;00m w \u001b[39m<\u001b[39m min_size\n\u001b[1;32m     36\u001b[0m )\n\u001b[1;32m     38\u001b[0m \u001b[39mif\u001b[39;00m is_wrong_shape:\n\u001b[0;32m---> 39\u001b[0m     \u001b[39mraise\u001b[39;00m \u001b[39mValueError\u001b[39;00m(\u001b[39m'\u001b[39m\u001b[39mWrong shape \u001b[39m\u001b[39m{}\u001b[39;00m\u001b[39m, input H and W should \u001b[39m\u001b[39m'\u001b[39m\u001b[39m.\u001b[39mformat(input_shape) \u001b[39m+\u001b[39m\n\u001b[1;32m     40\u001b[0m                      \u001b[39m'\u001b[39m\u001b[39mbe divisible by `\u001b[39m\u001b[39m{}\u001b[39;00m\u001b[39m`\u001b[39m\u001b[39m'\u001b[39m\u001b[39m.\u001b[39mformat(min_size))\n",
      "\u001b[0;31mValueError\u001b[0m: Wrong shape (128, 128, 3), input H and W should be divisible by `48`"
     ]
    }
   ],
   "source": [
    "# define model\n",
    "model = sm.PSPNet(BACKBONE,input_shape=input_shape, classes=n_classes, activation='softmax', encoder_weights='imagenet')\n",
    "model.compile('Adam', loss=sm.losses.bce_jaccard_loss, metrics=[sm.metrics.iou_score],)\n",
    "\n",
    "print(model.summary())"
   ]
  },
  {
   "cell_type": "code",
   "execution_count": null,
   "metadata": {},
   "outputs": [
    {
     "name": "stdout",
     "output_type": "stream",
     "text": [
      "(1080, 128, 128, 3)\n",
      "(338, 128, 128, 3)\n",
      "(1080, 128, 128, 5)\n",
      "(338, 128, 128, 5)\n"
     ]
    }
   ],
   "source": [
    "print(X_train.shape)\n",
    "print(X_test.shape)\n",
    "print(y_train_cat.shape)\n",
    "print(y_test_cat.shape)"
   ]
  },
  {
   "cell_type": "code",
   "execution_count": null,
   "metadata": {},
   "outputs": [
    {
     "name": "stderr",
     "output_type": "stream",
     "text": [
      "2023-02-22 10:18:36.051431: W tensorflow/core/framework/cpu_allocator_impl.cc:82] Allocation of 212336640 exceeds 10% of free system memory.\n",
      "2023-02-22 10:18:36.536432: W tensorflow/core/framework/cpu_allocator_impl.cc:82] Allocation of 353894400 exceeds 10% of free system memory.\n"
     ]
    },
    {
     "name": "stdout",
     "output_type": "stream",
     "text": [
      "Epoch 1/25\n"
     ]
    },
    {
     "ename": "ValueError",
     "evalue": "in user code:\n\n    File \"/home/elena/.local/lib/python3.10/site-packages/keras/engine/training.py\", line 1160, in train_function  *\n        return step_function(self, iterator)\n    File \"/home/elena/.local/lib/python3.10/site-packages/keras/engine/training.py\", line 1146, in step_function  **\n        outputs = model.distribute_strategy.run(run_step, args=(data,))\n    File \"/home/elena/.local/lib/python3.10/site-packages/keras/engine/training.py\", line 1135, in run_step  **\n        outputs = model.train_step(data)\n    File \"/home/elena/.local/lib/python3.10/site-packages/keras/engine/training.py\", line 993, in train_step\n        y_pred = self(x, training=True)\n    File \"/home/elena/.local/lib/python3.10/site-packages/keras/utils/traceback_utils.py\", line 70, in error_handler\n        raise e.with_traceback(filtered_tb) from None\n    File \"/home/elena/.local/lib/python3.10/site-packages/keras/engine/input_spec.py\", line 295, in assert_input_compatibility\n        raise ValueError(\n\n    ValueError: Input 0 of layer \"model\" is incompatible with the layer: expected shape=(None, 384, 384, 3), found shape=(None, 128, 128, 3)\n",
     "output_type": "error",
     "traceback": [
      "\u001b[0;31m---------------------------------------------------------------------------\u001b[0m",
      "\u001b[0;31mValueError\u001b[0m                                Traceback (most recent call last)",
      "Cell \u001b[0;32mIn [14], line 16\u001b[0m\n\u001b[1;32m     13\u001b[0m percorso \u001b[39m=\u001b[39m os\u001b[39m.\u001b[39mpath\u001b[39m.\u001b[39mjoin(\u001b[39m\"\u001b[39m\u001b[39m..\u001b[39m\u001b[39m\"\u001b[39m,\u001b[39m'\u001b[39m\u001b[39mPSPNet.hdf5\u001b[39m\u001b[39m'\u001b[39m)\n\u001b[1;32m     14\u001b[0m m_save \u001b[39m=\u001b[39m ModelCheckpoint(percorso, save_best_only\u001b[39m=\u001b[39m\u001b[39mTrue\u001b[39;00m, monitor\u001b[39m=\u001b[39m\u001b[39m'\u001b[39m\u001b[39mval_loss\u001b[39m\u001b[39m'\u001b[39m, mode\u001b[39m=\u001b[39m\u001b[39m'\u001b[39m\u001b[39mmin\u001b[39m\u001b[39m'\u001b[39m)\n\u001b[0;32m---> 16\u001b[0m history \u001b[39m=\u001b[39m model\u001b[39m.\u001b[39;49mfit(X_train, y_train_cat, \n\u001b[1;32m     17\u001b[0m                     batch_size \u001b[39m=\u001b[39;49m \u001b[39m16\u001b[39;49m, \n\u001b[1;32m     18\u001b[0m                     verbose\u001b[39m=\u001b[39;49m\u001b[39m1\u001b[39;49m, \n\u001b[1;32m     19\u001b[0m                     epochs\u001b[39m=\u001b[39;49m\u001b[39m25\u001b[39;49m, \n\u001b[1;32m     20\u001b[0m                     validation_data\u001b[39m=\u001b[39;49m(X_val, y_val_cat), \n\u001b[1;32m     21\u001b[0m                     callbacks\u001b[39m=\u001b[39;49m[callbacks,csv_logger, m_save],\n\u001b[1;32m     22\u001b[0m                     shuffle\u001b[39m=\u001b[39;49m\u001b[39mFalse\u001b[39;49;00m)\n\u001b[1;32m     24\u001b[0m \u001b[39m#accuracy = model.evaluate(x_val, y_val)\u001b[39;00m\n",
      "File \u001b[0;32m~/.local/lib/python3.10/site-packages/keras/utils/traceback_utils.py:70\u001b[0m, in \u001b[0;36mfilter_traceback.<locals>.error_handler\u001b[0;34m(*args, **kwargs)\u001b[0m\n\u001b[1;32m     67\u001b[0m     filtered_tb \u001b[39m=\u001b[39m _process_traceback_frames(e\u001b[39m.\u001b[39m__traceback__)\n\u001b[1;32m     68\u001b[0m     \u001b[39m# To get the full stack trace, call:\u001b[39;00m\n\u001b[1;32m     69\u001b[0m     \u001b[39m# `tf.debugging.disable_traceback_filtering()`\u001b[39;00m\n\u001b[0;32m---> 70\u001b[0m     \u001b[39mraise\u001b[39;00m e\u001b[39m.\u001b[39mwith_traceback(filtered_tb) \u001b[39mfrom\u001b[39;00m \u001b[39mNone\u001b[39m\n\u001b[1;32m     71\u001b[0m \u001b[39mfinally\u001b[39;00m:\n\u001b[1;32m     72\u001b[0m     \u001b[39mdel\u001b[39;00m filtered_tb\n",
      "File \u001b[0;32m/tmp/__autograph_generated_file8u610r9z.py:15\u001b[0m, in \u001b[0;36mouter_factory.<locals>.inner_factory.<locals>.tf__train_function\u001b[0;34m(iterator)\u001b[0m\n\u001b[1;32m     13\u001b[0m \u001b[39mtry\u001b[39;00m:\n\u001b[1;32m     14\u001b[0m     do_return \u001b[39m=\u001b[39m \u001b[39mTrue\u001b[39;00m\n\u001b[0;32m---> 15\u001b[0m     retval_ \u001b[39m=\u001b[39m ag__\u001b[39m.\u001b[39mconverted_call(ag__\u001b[39m.\u001b[39mld(step_function), (ag__\u001b[39m.\u001b[39mld(\u001b[39mself\u001b[39m), ag__\u001b[39m.\u001b[39mld(iterator)), \u001b[39mNone\u001b[39;00m, fscope)\n\u001b[1;32m     16\u001b[0m \u001b[39mexcept\u001b[39;00m:\n\u001b[1;32m     17\u001b[0m     do_return \u001b[39m=\u001b[39m \u001b[39mFalse\u001b[39;00m\n",
      "\u001b[0;31mValueError\u001b[0m: in user code:\n\n    File \"/home/elena/.local/lib/python3.10/site-packages/keras/engine/training.py\", line 1160, in train_function  *\n        return step_function(self, iterator)\n    File \"/home/elena/.local/lib/python3.10/site-packages/keras/engine/training.py\", line 1146, in step_function  **\n        outputs = model.distribute_strategy.run(run_step, args=(data,))\n    File \"/home/elena/.local/lib/python3.10/site-packages/keras/engine/training.py\", line 1135, in run_step  **\n        outputs = model.train_step(data)\n    File \"/home/elena/.local/lib/python3.10/site-packages/keras/engine/training.py\", line 993, in train_step\n        y_pred = self(x, training=True)\n    File \"/home/elena/.local/lib/python3.10/site-packages/keras/utils/traceback_utils.py\", line 70, in error_handler\n        raise e.with_traceback(filtered_tb) from None\n    File \"/home/elena/.local/lib/python3.10/site-packages/keras/engine/input_spec.py\", line 295, in assert_input_compatibility\n        raise ValueError(\n\n    ValueError: Input 0 of layer \"model\" is incompatible with the layer: expected shape=(None, 384, 384, 3), found shape=(None, 128, 128, 3)\n"
     ]
    }
   ],
   "source": [
    "# fit model\n",
    "# if you use data generator use model.fit_generator(...) instead of model.fit(...)\n",
    "# more about `fit_generator` here: https://keras.io/models/sequential/#fit_generator\n",
    "#from livelossplot import PlotLossesKeras\n",
    "#Include this as callback., but slows the training (callbacks=[PlotLossesKeras()],)\n",
    "\n",
    "from keras.callbacks import CSVLogger, EarlyStopping, ModelCheckpoint\n",
    "#Fase di TRAINING del modello, early stopping con pazienza a 5\n",
    "csv_logger = CSVLogger('PSPNet.log', separator=',', append=False)\n",
    "callbacks =[keras.callbacks.EarlyStopping(monitor=\"val_loss\", patience=5)]\n",
    "__path__ = os.path.join(\"..\",'PSPNet.hdf5')\n",
    "m_save = ModelCheckpoint(__path__, save_best_only=True, monitor='val_loss', mode='min')\n",
    "\n",
    "# Some times, it is useful to train only randomly initialized decoder in order not to damage weights of properly trained encoder with huge gradients\n",
    "# during first steps of training. \n",
    "history = model.fit(X_train, y_train_cat, \n",
    "                    batch_size = 16, \n",
    "                    verbose=1, \n",
    "                    epochs=2, \n",
    "                    validation_data=(X_val, y_val_cat), \n",
    "                    callbacks=[callbacks,csv_logger, m_save],\n",
    "                    shuffle=False)\n",
    "\n",
    "set_trainable(model) # set all layers trainable and recompile model\n",
    "\n",
    "history = model.fit(X_train, y_train_cat, \n",
    "                    batch_size = 16, \n",
    "                    verbose=1, \n",
    "                    epochs=20, \n",
    "                    validation_data=(X_val, y_val_cat), \n",
    "                    callbacks=[callbacks,csv_logger, m_save],\n",
    "                    shuffle=False)\n",
    "\n",
    "     \n"
   ]
  }
 ],
 "metadata": {
  "kernelspec": {
   "display_name": "Python 3",
   "language": "python",
   "name": "python3"
  },
  "language_info": {
   "codemirror_mode": {
    "name": "ipython",
    "version": 3
   },
   "file_extension": ".py",
   "mimetype": "text/x-python",
   "name": "python",
   "nbconvert_exporter": "python",
   "pygments_lexer": "ipython3",
   "version": "3.10.6"
  },
  "orig_nbformat": 4,
  "vscode": {
   "interpreter": {
    "hash": "916dbcbb3f70747c44a77c7bcd40155683ae19c65e1c03b4aa3499c5328201f1"
   }
  }
 },
 "nbformat": 4,
 "nbformat_minor": 2
}
