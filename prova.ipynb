{
 "cells": [
  {
   "cell_type": "code",
   "execution_count": 5,
   "metadata": {},
   "outputs": [],
   "source": [
    "import os\n",
    "import cv2 #pip3 install opencv-python\n",
    "\n",
    "import random\n",
    "\n",
    "import numpy as np\n",
    "import matplotlib.pyplot as plt\n",
    "import matplotlib.image as mpimg\n",
    "import matplotlib.gridspec as gridspec\n",
    "from PIL import Image, ImageOps, ImageFilter, ImageEnhance  #PILLOW\n",
    "from math import floor, ceil, pi\n",
    "import numpy as np "
   ]
  },
  {
   "cell_type": "code",
   "execution_count": 35,
   "metadata": {},
   "outputs": [
    {
     "name": "stdout",
     "output_type": "stream",
     "text": [
      "900   368\n"
     ]
    },
    {
     "ename": "ValueError",
     "evalue": "Unknown resampling filter (368). Use Image.Resampling.NEAREST (0), Image.Resampling.LANCZOS (1), Image.Resampling.BILINEAR (2), Image.Resampling.BICUBIC (3), Image.Resampling.BOX (4) or Image.Resampling.HAMMING (5)",
     "output_type": "error",
     "traceback": [
      "\u001b[1;31m---------------------------------------------------------------------------\u001b[0m",
      "\u001b[1;31mValueError\u001b[0m                                Traceback (most recent call last)",
      "Cell \u001b[1;32mIn [35], line 14\u001b[0m\n\u001b[0;32m     12\u001b[0m bottom \u001b[39m=\u001b[39m \u001b[39m3\u001b[39m \u001b[39m*\u001b[39m height\u001b[39m/\u001b[39mf\n\u001b[0;32m     13\u001b[0m img \u001b[39m=\u001b[39m img\u001b[39m.\u001b[39mcrop((left, top, right, bottom))\n\u001b[1;32m---> 14\u001b[0m img \u001b[39m=\u001b[39m img\u001b[39m.\u001b[39;49mresize(x,y)\n\u001b[0;32m     16\u001b[0m \u001b[39m#cropped_example.show()\u001b[39;00m\n\u001b[0;32m     19\u001b[0m ax \u001b[39m=\u001b[39m fig\u001b[39m.\u001b[39madd_subplot(\u001b[39m1\u001b[39m, \u001b[39m2\u001b[39m, \u001b[39m1\u001b[39m)\n",
      "File \u001b[1;32mc:\\Users\\Lucia\\Desktop\\Università\\Deep Learning\\jupyter\\.env\\lib\\site-packages\\PIL\\Image.py:2070\u001b[0m, in \u001b[0;36mImage.resize\u001b[1;34m(self, size, resample, box, reducing_gap)\u001b[0m\n\u001b[0;32m   2057\u001b[0m     message \u001b[39m=\u001b[39m \u001b[39mf\u001b[39m\u001b[39m\"\u001b[39m\u001b[39mUnknown resampling filter (\u001b[39m\u001b[39m{\u001b[39;00mresample\u001b[39m}\u001b[39;00m\u001b[39m).\u001b[39m\u001b[39m\"\u001b[39m\n\u001b[0;32m   2059\u001b[0m     filters \u001b[39m=\u001b[39m [\n\u001b[0;32m   2060\u001b[0m         \u001b[39mf\u001b[39m\u001b[39m\"\u001b[39m\u001b[39m{\u001b[39;00m\u001b[39mfilter\u001b[39m[\u001b[39m1\u001b[39m]\u001b[39m}\u001b[39;00m\u001b[39m (\u001b[39m\u001b[39m{\u001b[39;00m\u001b[39mfilter\u001b[39m[\u001b[39m0\u001b[39m]\u001b[39m}\u001b[39;00m\u001b[39m)\u001b[39m\u001b[39m\"\u001b[39m\n\u001b[0;32m   2061\u001b[0m         \u001b[39mfor\u001b[39;00m \u001b[39mfilter\u001b[39m \u001b[39min\u001b[39;00m (\n\u001b[1;32m   (...)\u001b[0m\n\u001b[0;32m   2068\u001b[0m         )\n\u001b[0;32m   2069\u001b[0m     ]\n\u001b[1;32m-> 2070\u001b[0m     \u001b[39mraise\u001b[39;00m \u001b[39mValueError\u001b[39;00m(\n\u001b[0;32m   2071\u001b[0m         message \u001b[39m+\u001b[39m \u001b[39m\"\u001b[39m\u001b[39m Use \u001b[39m\u001b[39m\"\u001b[39m \u001b[39m+\u001b[39m \u001b[39m\"\u001b[39m\u001b[39m, \u001b[39m\u001b[39m\"\u001b[39m\u001b[39m.\u001b[39mjoin(filters[:\u001b[39m-\u001b[39m\u001b[39m1\u001b[39m]) \u001b[39m+\u001b[39m \u001b[39m\"\u001b[39m\u001b[39m or \u001b[39m\u001b[39m\"\u001b[39m \u001b[39m+\u001b[39m filters[\u001b[39m-\u001b[39m\u001b[39m1\u001b[39m]\n\u001b[0;32m   2072\u001b[0m     )\n\u001b[0;32m   2074\u001b[0m \u001b[39mif\u001b[39;00m reducing_gap \u001b[39mis\u001b[39;00m \u001b[39mnot\u001b[39;00m \u001b[39mNone\u001b[39;00m \u001b[39mand\u001b[39;00m reducing_gap \u001b[39m<\u001b[39m \u001b[39m1.0\u001b[39m:\n\u001b[0;32m   2075\u001b[0m     \u001b[39mraise\u001b[39;00m \u001b[39mValueError\u001b[39;00m(\u001b[39m\"\u001b[39m\u001b[39mreducing_gap must be 1.0 or greater\u001b[39m\u001b[39m\"\u001b[39m)\n",
      "\u001b[1;31mValueError\u001b[0m: Unknown resampling filter (368). Use Image.Resampling.NEAREST (0), Image.Resampling.LANCZOS (1), Image.Resampling.BILINEAR (2), Image.Resampling.BICUBIC (3), Image.Resampling.BOX (4) or Image.Resampling.HAMMING (5)"
     ]
    },
    {
     "data": {
      "text/plain": [
       "<Figure size 2000x1000 with 0 Axes>"
      ]
     },
     "metadata": {},
     "output_type": "display_data"
    }
   ],
   "source": [
    "path = os.path.join(\"..\",\"original-dataset\",\"masks\",'003.png')\n",
    "fig = plt.figure(figsize=(20, 10))#(width,height)\n",
    "#PILLOW\n",
    "img=Image.open(path)#PILLOW\n",
    "x,y= img.size\n",
    "print(x,\" \", y)\n",
    "width, height = img.size   # Get dimensions\n",
    "f = 1.5\n",
    "left = width/f\n",
    "top = height/f\n",
    "right = 3 * width/f\n",
    "bottom = 3 * height/f\n",
    "img = img.crop((left, top, right, bottom))\n",
    "img = img.resize(x,y)\n",
    "\n",
    "#cropped_example.show()\n",
    "\n",
    "ax = fig.add_subplot(1, 2, 1)\n",
    "ax.title.set_text('pillow')\n",
    "plt.imshow(img)\n",
    "\n",
    "#CV2\n",
    "img = cv2.imread(path,  cv2.IMREAD_COLOR) #CV2\n",
    "#img = cv2.cvtColor(img, cv2.COLOR_BGR2HSV )\n",
    "img = cv2.normalize(img, None, alpha = 0, beta = 255, norm_type = cv2.NORM_MINMAX, dtype=cv2.CV_32F)\n",
    "\n",
    "\n",
    "ax = fig.add_subplot(1, 2, 2)\n",
    "ax.title.set_text('cv2')\n",
    "plt.imshow(img)\n"
   ]
  }
 ],
 "metadata": {
  "kernelspec": {
   "display_name": ".env",
   "language": "python",
   "name": "python3"
  },
  "language_info": {
   "codemirror_mode": {
    "name": "ipython",
    "version": 3
   },
   "file_extension": ".py",
   "mimetype": "text/x-python",
   "name": "python",
   "nbconvert_exporter": "python",
   "pygments_lexer": "ipython3",
   "version": "3.8.10"
  },
  "orig_nbformat": 4,
  "vscode": {
   "interpreter": {
    "hash": "9a13ec52eb9d49a9b33ecfe9930188ddd7d0345e415421bb0e51d90d033ae2a5"
   }
  }
 },
 "nbformat": 4,
 "nbformat_minor": 2
}
