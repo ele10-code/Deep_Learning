{
 "cells": [
  {
   "cell_type": "code",
   "execution_count": 40,
   "metadata": {},
   "outputs": [],
   "source": [
    "import tensorflow as tf\n",
    "import os\n",
    "import cv2 #pip3 install opencv-python\n",
    "\n",
    "from tensorflow import keras\n",
    "import random\n",
    "from keras.preprocessing.image import ImageDataGenerator\n",
    "\n",
    "import numpy as np\n",
    "import matplotlib.pyplot as plt\n",
    "import matplotlib.image as mpimg\n",
    "import matplotlib.gridspec as gridspec\n",
    "from PIL import Image, ImageOps, ImageFilter, ImageEnhance  #PILLOW\n",
    "from math import floor, ceil, pi\n",
    "import numpy as np \n",
    "%matplotlib inline"
   ]
  },
  {
   "cell_type": "code",
   "execution_count": 41,
   "metadata": {},
   "outputs": [],
   "source": [
    "#Funzione per fare mirror orizzonale delle immagini e delle relative maschere\n",
    "            #immagine, nome immagine, maschera, salvataggio immagine, salvataggio maschera\n",
    "def mirror_hor(img,name_img,mask,dest_img, dest_mask):\n",
    "    flip_img = ImageOps.mirror(img)\n",
    "    flip_mask = ImageOps.mirror(mask)\n",
    "    dest_img = os.path.join(dest_img,\"trasl_\"+name_img)\n",
    "    dest_mask = os.path.join(dest_mask,\"trasl_\"+name_img)\n",
    "    flip_img.save(dest_img)\n",
    "    flip_mask.save(dest_mask)"
   ]
  },
  {
   "cell_type": "code",
   "execution_count": 42,
   "metadata": {},
   "outputs": [],
   "source": [
    "#Funzione per cambiare il colore di un immagine (la maschera rimane uguale)\n",
    "def color(img,name_img,mask,dest_img,dest_mask):\n",
    "    img = img.convert(\"RGBA\")\n",
    "    factor = random.uniform(0.0,3.0) # fattore random per la modifica del colore\n",
    "    new_img = ImageEnhance.Color(img).enhance(factor)\n",
    "    \n",
    "    #Save\n",
    "    dest_img = os.path.join(dest_img,\"col_\"+name_img)\n",
    "    dest_mask = os.path.join(dest_mask,\"col_\"+name_img)\n",
    "    new_img.save(dest_img)\n",
    "    mask.save(dest_mask)"
   ]
  },
  {
   "cell_type": "code",
   "execution_count": 43,
   "metadata": {},
   "outputs": [],
   "source": [
    "#Funzione per aggiungere rumore gaussiano alle immagini (le maschere rimangono uguali)\n",
    "#Aggiunta di pixel di vari colori sull'immagine\n",
    "def gaussian_noise(image_path,name_img,mask,dest_img,dest_mask):\n",
    "    path = os.path.join(\"..\",\"original-dataset\",\"images\",name_img)\n",
    "    img = cv2.imread(path) #unico che funziona\n",
    "   \n",
    "    # Generate Gaussian noise\n",
    "    gauss = np.random.normal(0,0.6,img.size)\n",
    "    gauss = gauss.reshape(img.shape[0],img.shape[1],img.shape[2]).astype('uint8')\n",
    "    # Add the Gaussian noise to the image\n",
    "    img_gauss = cv2.add(img,gauss)\n",
    "    \n",
    "    # Display the image\n",
    "    #cv2.imshow('a',img_gauss)\n",
    "    #cv2.waitKey(0)\n",
    "    path2 = os.path.join(\"..\",\"car-segmentation\",\"images\",\"gauss_\"+name_img)\n",
    "    cv2.imwrite(path2,img_gauss)\n",
    "    dest_mask = os.path.join(dest_mask,\"gauss_\"+name_img)\n",
    "    mask.save(dest_mask)"
   ]
  },
  {
   "cell_type": "code",
   "execution_count": 44,
   "metadata": {},
   "outputs": [],
   "source": [
    "#Funzione per sfocare o definire un'immagine in modo random (maschere uguali)\n",
    "def blur(img,name_img,mask,dest_img,dest_mask):\n",
    "    img = img.convert(\"RGBA\")\n",
    "    \n",
    "    factor = random.uniform(-2.0,4.0) # fattore random per la modifica del colore\n",
    "    new_img = ImageEnhance.Sharpness(img).enhance(factor)\n",
    "    #new_img.show()\n",
    "    \n",
    "    #Save\n",
    "    dest_img = os.path.join(dest_img,\"blur_\"+name_img)\n",
    "    dest_mask = os.path.join(dest_mask,\"blur_\"+name_img)\n",
    "    new_img.save(dest_img)\n",
    "    mask.save(dest_mask)\n",
    "    "
   ]
  },
  {
   "cell_type": "code",
   "execution_count": 45,
   "metadata": {},
   "outputs": [],
   "source": [
    "#Funzione per ruotare di 25° o -25° (random) ogni immagine e ogni maschera\n",
    "def rotate(img,name_img,mask,dest_img,dest_mask):\n",
    "    angle =  random.choice([-25, 25])\n",
    "    new_img = img.rotate(angle)\n",
    "    new_mask = mask.rotate(angle,fillcolor=0) #Colore di background della maschera\n",
    "    #new_mask.show()\n",
    "    \n",
    "    #Save\n",
    "    dest_img = os.path.join(dest_img,\"rot_\"+name_img)\n",
    "    dest_mask = os.path.join(dest_mask,\"rot_\"+name_img)\n",
    "    new_img.save(dest_img)\n",
    "    new_mask.save(dest_mask)\n",
    "    "
   ]
  },
  {
   "cell_type": "code",
   "execution_count": 46,
   "metadata": {},
   "outputs": [],
   "source": [
    "\n",
    "#Funzione per traslare di 10 pixel in alto o in basso (random) ogni immagine e ogni maschera\n",
    "def traslate(img,name_img,mask,dest_img,dest_mask): \n",
    "    direction = random.choice([-10,10])\n",
    "    new_img = img.transform(img.size, Image.AFFINE, (1, 0, 0, 0, 1, direction))\n",
    "    new_mask = mask.transform(mask.size, Image.AFFINE, (1, 0, 0, 0, 1, direction))\n",
    "    new_img.show()\n",
    "    #new_mask.show()\n",
    "    \n",
    "    #Save\n",
    "    dest_img = os.path.join(dest_img,\"trasl_\"+name_img)\n",
    "    dest_mask = os.path.join(dest_mask,\"trasl_\"+name_img)\n",
    "    new_img.save(dest_img)\n",
    "    new_mask.save(dest_mask)\n",
    "    \n"
   ]
  },
  {
   "cell_type": "code",
   "execution_count": 47,
   "metadata": {},
   "outputs": [],
   "source": [
    "def zoom_center(img, zoom_factor,name_img = None):\n",
    "    # read original \n",
    "    path = os.path.join(\"..\",\"original-dataset\",\"images\",name_img)\n",
    "    path_mask = os.path.join(\"..\",\"original-dataset\",\"masks\",name_img)\n",
    "    #read image file\n",
    "    img = cv2.imread(path)\n",
    "    mask = cv2.imread(path_mask)\n",
    "\n",
    "    (h, w) = img.shape[:2]\n",
    "    (h_mask, w_mask) = mask.shape[:2]\n",
    " \n",
    "    # calculate the center of the image\n",
    "    center = (w / 2, h / 2)\n",
    "    center_mask = (w_mask / 2, h_mask / 2)   \n",
    "    \n",
    "    # perform the rotation and translate the image to its center\n",
    "    M = cv2.getRotationMatrix2D(center, 360, zoom_factor) # rotate 360 degrees clockwise around center of image \n",
    "    M_mask = cv2.getRotationMatrix2D(center_mask, 360, zoom_factor) # rotate 360 degrees clockwise around center of mask\n",
    "    rotated = cv2.warpAffine(img, M, (w, h)) # translate rotated image to its center \n",
    "    mask_rot = cv2.warpAffine(mask, M_mask, (w_mask, h_mask)) # translate rotated mask to its center\n",
    "    \n",
    "    # show the image\n",
    "    cv2.imshow(\"Zoom\", mask_rot)\n",
    "    cv2.waitKey(0)\n",
    "\n",
    "    #Save\n",
    "    dest_img= os.path.join(\"..\",\"car-segmentation\",\"images\",\"zoomC_\"+name_img)\n",
    "    cv2.imwrite(dest_img,rotated)\n",
    "    dest_mask= os.path.join(\"..\",\"car-segmentation\",\"masks\",\"zoomC_\"+name_img)\n",
    "    cv2.imwrite(dest_mask,mask_rot)\n",
    "    \n"
   ]
  },
  {
   "cell_type": "code",
   "execution_count": 48,
   "metadata": {},
   "outputs": [],
   "source": [
    "def zoom_left(img, zoom_factor,name_img = None):\n",
    "    # read original \n",
    "    path = os.path.join(\"..\",\"original-dataset\",\"images\",name_img)\n",
    "    path_mask = os.path.join(\"..\",\"original-dataset\",\"masks\",name_img)\n",
    "    #read image file\n",
    "    img = cv2.imread(path)\n",
    "    mask = cv2.imread(path_mask)\n",
    "    \n",
    "    (h, w) = img.shape[:2]\n",
    " \n",
    "    # calculate the left of the image\n",
    "    left = (w / 4, h / 4)\n",
    "    \n",
    "    # perform the rotation and translate the image to its left\n",
    "    M1 = cv2.getRotationMatrix2D(left, 360, zoom_factor) # rotate 360 degrees clockwise around left of image \n",
    "    rotated1 = cv2.warpAffine(img, M1, (w, h)) # translate rotated image to its center \n",
    "    rotated_mask = cv2.warpAffine(mask, M1, (w, h))\n",
    "    \n",
    "    #cv2.imshow(\"Rotated (Correct)\", rotated1)\n",
    "    #cv2.waitKey(0)\n",
    "\n",
    "\n",
    "    #Save\n",
    "    dest_img = os.path.join(\"..\",\"car-segmentation\",\"images\",\"zoomL_\"+name_img)\n",
    "    cv2.imwrite(dest_img, rotated1)\n",
    "    dest_mask = os.path.join(\"..\",\"car-segmentation\",\"masks\",\"zoomL_\"+name_img)\n",
    "    cv2.imwrite(dest_mask, rotated_mask)"
   ]
  },
  {
   "cell_type": "code",
   "execution_count": 49,
   "metadata": {},
   "outputs": [
    {
     "name": "stdout",
     "output_type": "stream",
     "text": [
      "Eseguo sull'immagine:  1\n",
      "Eseguo sull'immagine:  2\n",
      "Eseguo sull'immagine:  3\n"
     ]
    },
    {
     "ename": "OSError",
     "evalue": "cannot write mode RGBA as JPEG",
     "output_type": "error",
     "traceback": [
      "\u001b[0;31m---------------------------------------------------------------------------\u001b[0m",
      "\u001b[0;31mKeyError\u001b[0m                                  Traceback (most recent call last)",
      "File \u001b[0;32m/usr/lib/python3/dist-packages/PIL/JpegImagePlugin.py:630\u001b[0m, in \u001b[0;36m_save\u001b[0;34m(im, fp, filename)\u001b[0m\n\u001b[1;32m    629\u001b[0m \u001b[39mtry\u001b[39;00m:\n\u001b[0;32m--> 630\u001b[0m     rawmode \u001b[39m=\u001b[39m RAWMODE[im\u001b[39m.\u001b[39;49mmode]\n\u001b[1;32m    631\u001b[0m \u001b[39mexcept\u001b[39;00m \u001b[39mKeyError\u001b[39;00m \u001b[39mas\u001b[39;00m e:\n",
      "\u001b[0;31mKeyError\u001b[0m: 'RGBA'",
      "\nThe above exception was the direct cause of the following exception:\n",
      "\u001b[0;31mOSError\u001b[0m                                   Traceback (most recent call last)",
      "Cell \u001b[0;32mIn [49], line 28\u001b[0m\n\u001b[1;32m     25\u001b[0m gaussian_noise(image_path,file,mask,destination_img_folder,destination_mask_folder)\n\u001b[1;32m     27\u001b[0m \u001b[39m#3) Colore\u001b[39;00m\n\u001b[0;32m---> 28\u001b[0m color(img,file,mask,destination_img_folder,destination_mask_folder)\n\u001b[1;32m     30\u001b[0m \u001b[39m#4) Blur\u001b[39;00m\n\u001b[1;32m     31\u001b[0m blur(img,file,mask,destination_img_folder,destination_mask_folder)\n",
      "Cell \u001b[0;32mIn [42], line 10\u001b[0m, in \u001b[0;36mcolor\u001b[0;34m(img, name_img, mask, dest_img, dest_mask)\u001b[0m\n\u001b[1;32m      8\u001b[0m dest_img \u001b[39m=\u001b[39m os\u001b[39m.\u001b[39mpath\u001b[39m.\u001b[39mjoin(dest_img,\u001b[39m\"\u001b[39m\u001b[39mcol_\u001b[39m\u001b[39m\"\u001b[39m\u001b[39m+\u001b[39mname_img)\n\u001b[1;32m      9\u001b[0m dest_mask \u001b[39m=\u001b[39m os\u001b[39m.\u001b[39mpath\u001b[39m.\u001b[39mjoin(dest_mask,\u001b[39m\"\u001b[39m\u001b[39mcol_\u001b[39m\u001b[39m\"\u001b[39m\u001b[39m+\u001b[39mname_img)\n\u001b[0;32m---> 10\u001b[0m new_img\u001b[39m.\u001b[39;49msave(dest_img)\n\u001b[1;32m     11\u001b[0m mask\u001b[39m.\u001b[39msave(dest_mask)\n",
      "File \u001b[0;32m/usr/lib/python3/dist-packages/PIL/Image.py:2212\u001b[0m, in \u001b[0;36mImage.save\u001b[0;34m(self, fp, format, **params)\u001b[0m\n\u001b[1;32m   2209\u001b[0m         fp \u001b[39m=\u001b[39m builtins\u001b[39m.\u001b[39mopen(filename, \u001b[39m\"\u001b[39m\u001b[39mw+b\u001b[39m\u001b[39m\"\u001b[39m)\n\u001b[1;32m   2211\u001b[0m \u001b[39mtry\u001b[39;00m:\n\u001b[0;32m-> 2212\u001b[0m     save_handler(\u001b[39mself\u001b[39;49m, fp, filename)\n\u001b[1;32m   2213\u001b[0m \u001b[39mfinally\u001b[39;00m:\n\u001b[1;32m   2214\u001b[0m     \u001b[39m# do what we can to clean up\u001b[39;00m\n\u001b[1;32m   2215\u001b[0m     \u001b[39mif\u001b[39;00m open_fp:\n",
      "File \u001b[0;32m/usr/lib/python3/dist-packages/PIL/JpegImagePlugin.py:632\u001b[0m, in \u001b[0;36m_save\u001b[0;34m(im, fp, filename)\u001b[0m\n\u001b[1;32m    630\u001b[0m     rawmode \u001b[39m=\u001b[39m RAWMODE[im\u001b[39m.\u001b[39mmode]\n\u001b[1;32m    631\u001b[0m \u001b[39mexcept\u001b[39;00m \u001b[39mKeyError\u001b[39;00m \u001b[39mas\u001b[39;00m e:\n\u001b[0;32m--> 632\u001b[0m     \u001b[39mraise\u001b[39;00m \u001b[39mOSError\u001b[39;00m(\u001b[39mf\u001b[39m\u001b[39m\"\u001b[39m\u001b[39mcannot write mode \u001b[39m\u001b[39m{\u001b[39;00mim\u001b[39m.\u001b[39mmode\u001b[39m}\u001b[39;00m\u001b[39m as JPEG\u001b[39m\u001b[39m\"\u001b[39m) \u001b[39mfrom\u001b[39;00m \u001b[39me\u001b[39;00m\n\u001b[1;32m    634\u001b[0m info \u001b[39m=\u001b[39m im\u001b[39m.\u001b[39mencoderinfo\n\u001b[1;32m    636\u001b[0m dpi \u001b[39m=\u001b[39m [\u001b[39mround\u001b[39m(x) \u001b[39mfor\u001b[39;00m x \u001b[39min\u001b[39;00m info\u001b[39m.\u001b[39mget(\u001b[39m\"\u001b[39m\u001b[39mdpi\u001b[39m\u001b[39m\"\u001b[39m, (\u001b[39m0\u001b[39m, \u001b[39m0\u001b[39m))]\n",
      "\u001b[0;31mOSError\u001b[0m: cannot write mode RGBA as JPEG"
     ]
    }
   ],
   "source": [
    "#Get Directory of car-segmentation images\n",
    "parent = os.path.abspath(os.path.join(os.getcwd(), os.pardir)) #parent directory\n",
    "img_folder = os.path.join(parent, \"original-dataset\", \"images\")\n",
    "masks_folder = os.path.join(parent, \"original-dataset\", \"masks\")\n",
    "destination_img_folder = os.path.join(parent, \"car-segmentation\", \"images\") #cartella di destinazione su cui salvare le immagini\n",
    "destination_mask_folder = os.path.join(parent, \"car-segmentation\", \"masks\") #cartella di destinazione su cui salvare le maschere \n",
    "all_images = os.listdir(img_folder)\n",
    "all_masks = os.listdir(masks_folder)\n",
    "\n",
    "for i in range(10): #len(all_images)\n",
    "    print(\"Eseguo sull'immagine: \", i+1)\n",
    "    #immagine\n",
    "    file = all_images[i] #Nome dell'immagine (e della maschera)\n",
    "    image_path = os.path.join(img_folder, file)\n",
    "    img = Image.open(image_path)\n",
    "    #maschera\n",
    "    mask_path = os.path.join(masks_folder,file)\n",
    "    mask = Image.open(mask_path)\n",
    "    \n",
    "    #Operazioni\n",
    "    #1) Mirror orizzonale di ogni immagine\n",
    "    mirror_hor(img,file,mask,destination_img_folder,destination_mask_folder)\n",
    "    \n",
    "    #2) Rumore gaussiano\n",
    "    gaussian_noise(image_path,file,mask,destination_img_folder,destination_mask_folder)\n",
    "    \n",
    "    #3) Colore\n",
    "    color(img,file,mask,destination_img_folder,destination_mask_folder)\n",
    "    \n",
    "    #4) Blur\n",
    "    blur(img,file,mask,destination_img_folder,destination_mask_folder)\n",
    "    \n",
    "    #5) Rotate \n",
    "    rotate(img,file,mask,destination_img_folder,destination_mask_folder)\n",
    "    \n",
    "    #6) scale\n",
    "    zoom_center(img, zoom_factor=1.3,name_img=file)\n",
    "    zoom_left(img, zoom_factor=1.3,name_img=file)\n",
    "    \n",
    "    \n",
    "  "
   ]
  }
 ],
 "metadata": {
  "kernelspec": {
   "display_name": "Python 3",
   "language": "python",
   "name": "python3"
  },
  "language_info": {
   "codemirror_mode": {
    "name": "ipython",
    "version": 3
   },
   "file_extension": ".py",
   "mimetype": "text/x-python",
   "name": "python",
   "nbconvert_exporter": "python",
   "pygments_lexer": "ipython3",
   "version": "3.10.6"
  },
  "orig_nbformat": 4,
  "vscode": {
   "interpreter": {
    "hash": "916dbcbb3f70747c44a77c7bcd40155683ae19c65e1c03b4aa3499c5328201f1"
   }
  }
 },
 "nbformat": 4,
 "nbformat_minor": 2
}
