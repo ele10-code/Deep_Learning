{
 "cells": [
  {
   "cell_type": "code",
   "execution_count": 120,
   "metadata": {},
   "outputs": [],
   "source": [
    "import tensorflow as tf\n",
    "import os\n",
    "import cv2 #pip3 install opencv-python\n",
    "\n",
    "from tensorflow import keras\n",
    "import random\n",
    "from keras.preprocessing.image import ImageDataGenerator\n",
    "\n",
    "import numpy as np\n",
    "import matplotlib.pyplot as plt\n",
    "import matplotlib.image as mpimg\n",
    "import matplotlib.gridspec as gridspec\n",
    "from PIL import Image, ImageOps, ImageFilter, ImageEnhance  #PILLOW\n",
    "from math import floor, ceil, pi\n",
    "import numpy as np \n",
    "%matplotlib inline"
   ]
  },
  {
   "cell_type": "code",
   "execution_count": 121,
   "metadata": {},
   "outputs": [],
   "source": [
    "#Funzione per fare mirror orizzonale delle immagini e delle relative maschere\n",
    "            #immagine, nome immagine, maschera, salvataggio immagine, salvataggio maschera\n",
    "def mirror_hor(img,name_img,mask,dest_img, dest_mask):\n",
    "    flip_img = ImageOps.mirror(img)\n",
    "    flip_mask = ImageOps.mirror(mask)\n",
    "    dest_img = os.path.join(dest_img,\"trasl_\"+name_img)\n",
    "    dest_mask = os.path.join(dest_mask,\"trasl_\"+name_img)\n",
    "    flip_img.save(dest_img)\n",
    "    flip_mask.save(dest_mask)"
   ]
  },
  {
   "cell_type": "code",
   "execution_count": 122,
   "metadata": {},
   "outputs": [],
   "source": [
    "#Funzione per cambiare il colore di un immagine (la maschera rimane uguale)\n",
    "def color(img,name_img,mask,dest_img,dest_mask):\n",
    "    img = img.convert(\"RGBA\")\n",
    "    factor = random.uniform(0.0,3.0) # fattore random per la modifica del colore\n",
    "    new_img = ImageEnhance.Color(img).enhance(factor)\n",
    "    \n",
    "    #Save\n",
    "    dest_img = os.path.join(dest_img,\"col_\"+name_img)\n",
    "    dest_mask = os.path.join(dest_mask,\"col_\"+name_img)\n",
    "    new_img.save(dest_img)\n",
    "    mask.save(dest_mask)"
   ]
  },
  {
   "cell_type": "code",
   "execution_count": 123,
   "metadata": {},
   "outputs": [],
   "source": [
    "#Funzione per aggiungere rumore gaussiano alle immagini (le maschere rimangono uguali)\n",
    "#Aggiunta di pixel di vari colori sull'immagine\n",
    "def gaussian_noise(image_path,name_img,mask,dest_img,dest_mask):\n",
    "    path = os.path.join(\"..\",\"original-dataset\",\"images\",name_img)\n",
    "    img = cv2.imread(path) #unico che funziona\n",
    "   \n",
    "    # Generate Gaussian noise\n",
    "    gauss = np.random.normal(0,0.6,img.size)\n",
    "    gauss = gauss.reshape(img.shape[0],img.shape[1],img.shape[2]).astype('uint8')\n",
    "    # Add the Gaussian noise to the image\n",
    "    img_gauss = cv2.add(img,gauss)\n",
    "    \n",
    "    # Display the image\n",
    "    #cv2.imshow('a',img_gauss)\n",
    "    #cv2.waitKey(0)\n",
    "    path2 = os.path.join(\"..\",\"car-segmentation\",\"images\",\"gauss_\"+name_img)\n",
    "    cv2.imwrite(path2,img_gauss)\n",
    "    dest_mask = os.path.join(dest_mask,\"gauss_\"+name_img)\n",
    "    mask.save(dest_mask)"
   ]
  },
  {
   "cell_type": "code",
   "execution_count": 124,
   "metadata": {},
   "outputs": [],
   "source": [
    "#Funzione per sfocare o definire un'immagine in modo random (maschere uguali)\n",
    "def blur(img,name_img,mask,dest_img,dest_mask):\n",
    "    img = img.convert(\"RGBA\")\n",
    "    \n",
    "    factor = random.uniform(-2.0,4.0) # fattore random per la modifica del colore\n",
    "    new_img = ImageEnhance.Sharpness(img).enhance(factor)\n",
    "    #new_img.show()\n",
    "    \n",
    "    #Save\n",
    "    dest_img = os.path.join(dest_img,\"blur_\"+name_img)\n",
    "    dest_mask = os.path.join(dest_mask,\"blur_\"+name_img)\n",
    "    new_img.save(dest_img)\n",
    "    mask.save(dest_mask)\n",
    "    "
   ]
  },
  {
   "cell_type": "code",
   "execution_count": 125,
   "metadata": {},
   "outputs": [],
   "source": [
    "#Funzione per ruotare di 25° o -25° (random) ogni immagine e ogni maschera\n",
    "def rotate(img,name_img,mask,dest_img,dest_mask):\n",
    "    angle =  random.choice([-25, 25])\n",
    "    new_img = img.rotate(angle)\n",
    "    new_mask = mask.rotate(angle,fillcolor=0) #Colore di background della maschera\n",
    "    #new_mask.show()\n",
    "    \n",
    "    #Save\n",
    "    dest_img = os.path.join(dest_img,\"rot_\"+name_img)\n",
    "    dest_mask = os.path.join(dest_mask,\"rot_\"+name_img)\n",
    "    new_img.save(dest_img)\n",
    "    new_mask.save(dest_mask)\n",
    "    "
   ]
  },
  {
   "cell_type": "code",
   "execution_count": 126,
   "metadata": {},
   "outputs": [],
   "source": [
    "\n",
    "#Funzione per traslare di 10 pixel in alto o in basso (random) ogni immagine e ogni maschera\n",
    "def traslate(img,name_img,mask,dest_img,dest_mask): \n",
    "    direction = random.choice([-10,10])\n",
    "    new_img = img.transform(img.size, Image.AFFINE, (1, 0, 0, 0, 1, direction))\n",
    "    new_mask = mask.transform(mask.size, Image.AFFINE, (1, 0, 0, 0, 1, direction))\n",
    "    new_img.show()\n",
    "    #new_mask.show()\n",
    "    \n",
    "    #Save\n",
    "    dest_img = os.path.join(dest_img,\"trasl_\"+name_img)\n",
    "    dest_mask = os.path.join(dest_mask,\"trasl_\"+name_img)\n",
    "    new_img.save(dest_img)\n",
    "    new_mask.save(dest_mask)\n",
    "    \n"
   ]
  },
  {
   "cell_type": "code",
   "execution_count": 127,
   "metadata": {},
   "outputs": [],
   "source": [
    "def zoom_center(img, zoom_factor,name_img = None):\n",
    "    # read original \n",
    "    path = os.path.join(\"..\",\"original-dataset\",\"images\",name_img)\n",
    "    path_mask = os.path.join(\"..\",\"original-dataset\",\"masks\",name_img)\n",
    "    #read image file\n",
    "    img = cv2.imread(path)\n",
    "    mask = cv2.imread(path_mask)\n",
    "\n",
    "    (h, w) = img.shape[:2]\n",
    " \n",
    "    # calculate the center of the image\n",
    "    center = (w / 2, h / 2)\n",
    "    \n",
    "    \n",
    "    # perform the rotation and translate the image to its center\n",
    "    M = cv2.getRotationMatrix2D(center, 360, zoom_factor) # rotate 360 degrees clockwise around center of image \n",
    "    rotated = cv2.warpAffine(img, M, (w, h)) # translate rotated image to its center \n",
    "    mask_rot = cv2.warpAffine(mask, M, (w, h))\n",
    "    \n",
    "    #cv2.imshow(\"Zoom\", mask_rot)\n",
    "    #cv2.waitKey(0)\n",
    "\n",
    "    #Save\n",
    "    dest_img= os.path.join(\"..\",\"car-segmentation\",\"images\",\"zoomC_\"+name_img)\n",
    "    cv2.imwrite(dest_img,rotated)\n",
    "    dest_mask= os.path.join(\"..\",\"car-segmentation\",\"masks\",\"zoomC_\"+name_img)\n",
    "    cv2.imwrite(dest_mask,mask_rot)\n",
    "    \n"
   ]
  },
  {
   "cell_type": "code",
   "execution_count": 128,
   "metadata": {},
   "outputs": [],
   "source": [
    "def zoom_left(img, zoom_factor,name_img = None):\n",
    "    # read original \n",
    "    path = os.path.join(\"..\",\"original-dataset\",\"images\",name_img)\n",
    "    path_mask = os.path.join(\"..\",\"original-dataset\",\"masks\",name_img)\n",
    "    #read image file\n",
    "    img = cv2.imread(path)\n",
    "    mask = cv2.imread(path_mask)\n",
    "    \n",
    "    (h, w) = img.shape[:2]\n",
    " \n",
    "    # calculate the left of the image\n",
    "    left = (w / 4, h / 4)\n",
    "    \n",
    "    # perform the rotation and translate the image to its left\n",
    "    M1 = cv2.getRotationMatrix2D(left, 360, zoom_factor) # rotate 360 degrees clockwise around left of image \n",
    "    rotated1 = cv2.warpAffine(img, M1, (w, h)) # translate rotated image to its center \n",
    "    rotated_mask = cv2.warpAffine(mask, M1, (w, h))\n",
    "    #cv2.imshow(\"Rotated (Correct)\", rotated1)\n",
    "    #cv2.waitKey(0)\n",
    "\n",
    "\n",
    "    #Save\n",
    "    dest_img = os.path.join(\"..\",\"car-segmentation\",\"images\",\"zoomL_\"+name_img)\n",
    "    cv2.imwrite(dest_img, rotated1)\n",
    "    dest_mask = os.path.join(\"..\",\"car-segmentation\",\"masks\",\"zoomL_\"+name_img)\n",
    "    cv2.imwrite(dest_mask, rotated_mask)"
   ]
  },
  {
   "cell_type": "code",
   "execution_count": 129,
   "metadata": {},
   "outputs": [
    {
     "name": "stdout",
     "output_type": "stream",
     "text": [
      "Eseguo sull'immagine:  1\n"
     ]
    }
   ],
   "source": [
    "#Get Directory of car-segmentation images\n",
    "parent = os.path.abspath(os.path.join(os.getcwd(), os.pardir)) #parent directory\n",
    "img_folder = os.path.join(parent, \"original-dataset\", \"images\")\n",
    "masks_folder = os.path.join(parent, \"original-dataset\", \"masks\")\n",
    "destination_img_folder = os.path.join(parent, \"car-segmentation\", \"images\") #cartella di destinazione su cui salvare le immagini\n",
    "destination_mask_folder = os.path.join(parent, \"car-segmentation\", \"masks\") #cartella di destinazione su cui salvare le maschere \n",
    "all_images = os.listdir(img_folder)\n",
    "all_masks = os.listdir(masks_folder)\n",
    "\n",
    "for i in range(1): #len(all_images)\n",
    "    print(\"Eseguo sull'immagine: \", i+1)\n",
    "    #immagine\n",
    "    file = all_images[i] #Nome dell'immagine (e della maschera)\n",
    "    image_path = os.path.join(img_folder, file)\n",
    "    img = Image.open(image_path)\n",
    "    #maschera\n",
    "    mask_path = os.path.join(masks_folder,file)\n",
    "    mask = Image.open(mask_path)\n",
    "    \n",
    "    #Operazioni\n",
    "    #1) Mirror orizzonale di ogni immagine\n",
    "    mirror_hor(img,file,mask,destination_img_folder,destination_mask_folder)\n",
    "    \n",
    "    #2) Rumore gaussiano\n",
    "    gaussian_noise(image_path,file,mask,destination_img_folder,destination_mask_folder)\n",
    "    \n",
    "    #3) Colore\n",
    "    color(img,file,mask,destination_img_folder,destination_mask_folder)\n",
    "    \n",
    "    #4) Blur\n",
    "    blur(img,file,mask,destination_img_folder,destination_mask_folder)\n",
    "    \n",
    "    #5) Rotate \n",
    "    rotate(img,file,mask,destination_img_folder,destination_mask_folder)\n",
    "    \n",
    "    #6) scale\n",
    "    zoom_center(img, zoom_factor=1.3,name_img=file)\n",
    "    zoom_left(img, zoom_factor=1.3,name_img=file)\n",
    "    \n",
    "    \n",
    "  "
   ]
  }
 ],
 "metadata": {
  "kernelspec": {
   "display_name": ".env",
   "language": "python",
   "name": "python3"
  },
  "language_info": {
   "codemirror_mode": {
    "name": "ipython",
    "version": 3
   },
   "file_extension": ".py",
   "mimetype": "text/x-python",
   "name": "python",
   "nbconvert_exporter": "python",
   "pygments_lexer": "ipython3",
   "version": "3.8.10"
  },
  "orig_nbformat": 4,
  "vscode": {
   "interpreter": {
    "hash": "9a13ec52eb9d49a9b33ecfe9930188ddd7d0345e415421bb0e51d90d033ae2a5"
   }
  }
 },
 "nbformat": 4,
 "nbformat_minor": 2
}
