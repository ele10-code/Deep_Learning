{
 "cells": [
  {
   "cell_type": "code",
   "execution_count": 38,
   "metadata": {},
   "outputs": [],
   "source": [
    "import tensorflow as tf\n",
    "import os\n",
    "import cv2 #pip3 install opencv-python\n",
    "\n",
    "from tensorflow import keras\n",
    "import random\n",
    "from keras.preprocessing.image import ImageDataGenerator\n",
    "\n",
    "import numpy as np\n",
    "import matplotlib.pyplot as plt\n",
    "import matplotlib.image as mpimg\n",
    "import matplotlib.gridspec as gridspec\n",
    "from PIL import Image, ImageOps, ImageFilter, ImageEnhance  #PILLOW\n",
    "from math import floor, ceil, pi\n",
    "import numpy as np \n",
    "%matplotlib inline"
   ]
  },
  {
   "cell_type": "code",
   "execution_count": 39,
   "metadata": {},
   "outputs": [],
   "source": [
    "#Funzione per fare mirror orizzonale delle immagini e delle relative maschere\n",
    "            #immagine, nome immagine, maschera, salvataggio immagine, salvataggio maschera\n",
    "def mirror_hor(img,name_img,mask,dest_img, dest_mask):\n",
    "    flip_img = ImageOps.mirror(img)\n",
    "    flip_mask = ImageOps.mirror(mask)\n",
    "    dest_img = os.path.join(dest_img,\"trasl_\"+name_img)\n",
    "    dest_mask = os.path.join(dest_mask,\"trasl_\"+name_img)\n",
    "    flip_img.save(dest_img)\n",
    "    flip_mask.save(dest_mask)"
   ]
  },
  {
   "cell_type": "code",
   "execution_count": 40,
   "metadata": {},
   "outputs": [],
   "source": [
    "#Funzione per cambiare il colore di un immagine (la maschera rimane uguale)\n",
    "def color(img,name_img,mask,dest_img,dest_mask):\n",
    "    img = img.convert(\"RGBA\")\n",
    "    factor = random.uniform(0.0,3.0) # fattore random per la modifica del colore\n",
    "    new_img = ImageEnhance.Color(img).enhance(factor)\n",
    "    \n",
    "    #Save\n",
    "    dest_img = os.path.join(dest_img,\"col_\"+name_img)\n",
    "    dest_mask = os.path.join(dest_mask,\"col_\"+name_img)\n",
    "    new_img.save(dest_img)\n",
    "    mask.save(dest_mask)"
   ]
  },
  {
   "cell_type": "code",
   "execution_count": 41,
   "metadata": {},
   "outputs": [],
   "source": [
    "#Funzione per aggiungere rumore gaussiano alle immagini (le maschere rimangono uguali)\n",
    "#Aggiunta di pixel di vari colori sull'immagine\n",
    "def gaussian_noise(image_path,name_img,mask,dest_img,dest_mask):\n",
    "    path = os.path.join(\"..\",\"original-dataset\",\"images\",name_img)\n",
    "    img = cv2.imread(path) #unico che funziona\n",
    "   \n",
    "    # Generate Gaussian noise\n",
    "    gauss = np.random.normal(0,0.6,img.size)\n",
    "    gauss = gauss.reshape(img.shape[0],img.shape[1],img.shape[2]).astype('uint8')\n",
    "    # Add the Gaussian noise to the image\n",
    "    img_gauss = cv2.add(img,gauss)\n",
    "    \n",
    "    # Display the image\n",
    "    #cv2.imshow('a',img_gauss)\n",
    "    #cv2.waitKey(0)\n",
    "    path2 = os.path.join(\"..\",\"car-segmentation\",\"images\",\"gauss_\"+name_img)\n",
    "    cv2.imwrite(path2,img_gauss)\n",
    "    dest_mask = os.path.join(dest_mask,\"gauss_\"+name_img)\n",
    "    mask.save(dest_mask)"
   ]
  },
  {
   "cell_type": "code",
   "execution_count": 42,
   "metadata": {},
   "outputs": [],
   "source": [
    "#Funzione per sfocare o definire un'immagine in modo random (maschere uguali)\n",
    "def blur(img,name_img,mask,dest_img,dest_mask):\n",
    "    img = img.convert(\"RGBA\")\n",
    "    \n",
    "    factor = random.uniform(-2.0,4.0) # fattore random per la modifica del colore\n",
    "    new_img = ImageEnhance.Sharpness(img).enhance(factor)\n",
    "    #new_img.show()\n",
    "    \n",
    "    #Save\n",
    "    dest_img = os.path.join(dest_img,\"blur_\"+name_img)\n",
    "    dest_mask = os.path.join(dest_mask,\"blur_\"+name_img)\n",
    "    new_img.save(dest_img)\n",
    "    mask.save(dest_mask)\n",
    "    "
   ]
  },
  {
   "cell_type": "code",
   "execution_count": 43,
   "metadata": {},
   "outputs": [],
   "source": [
    "#Funzione per ruotare di 25° o -25° (random) ogni immagine e ogni maschera\n",
    "def rotate(img,name_img,mask,dest_img,dest_mask):\n",
    "    angle =  random.choice([-25, 25])\n",
    "    new_img = img.rotate(angle)\n",
    "    new_mask = mask.rotate(angle,fillcolor=0) #Colore di background della maschera\n",
    "    #new_mask.show()\n",
    "    \n",
    "    #Save\n",
    "    dest_img = os.path.join(dest_img,\"rot_\"+name_img)\n",
    "    dest_mask = os.path.join(dest_mask,\"rot_\"+name_img)\n",
    "    new_img.save(dest_img)\n",
    "    new_mask.save(dest_mask)\n",
    "    "
   ]
  },
  {
   "cell_type": "code",
   "execution_count": 64,
   "metadata": {},
   "outputs": [],
   "source": [
    "\n",
    "#Funzione per traslare di 10 pixel in alto o in basso (random) ogni immagine e ogni maschera\n",
    "def traslate(img,name_img,mask,dest_img,dest_mask): \n",
    "    direction = random.choice([-10,10])\n",
    "    new_img = img.transform(img.size, Image.AFFINE, (1, 0, 0, 0, 1, direction))\n",
    "    new_mask = mask.transform(mask.size, Image.AFFINE, (1, 0, 0, 0, 1, direction))\n",
    "    new_img.show()\n",
    "    #new_mask.show()\n",
    "    \n",
    "    #Save\n",
    "    dest_img = os.path.join(dest_img,\"trasl_\"+name_img)\n",
    "    dest_mask = os.path.join(dest_mask,\"trasl_\"+name_img)\n",
    "    new_img.save(dest_img)\n",
    "    new_mask.save(dest_mask)\n",
    "    \n",
    "\n",
    "\n"
   ]
  },
  {
   "cell_type": "code",
   "execution_count": 61,
   "metadata": {},
   "outputs": [],
   "source": [
    "def zoom_center(img, zoom_factor=1.5,name_img = None, mask=None ,dest_img=None, dest_mask=None):\n",
    "    # read original \n",
    "    path = os.path.join(\"..\",\"original-dataset\",\"images\",name_img)\n",
    "    #read image file\n",
    "    img = cv2.imread(path)\n",
    "\n",
    "    (h, w) = img.shape[:2]\n",
    " \n",
    "    # calculate the center of the image\n",
    "    center = (w / 2, h / 2)\n",
    "    \n",
    "    \n",
    "    # perform the rotation and translate the image to its center\n",
    "    M = cv2.getRotationMatrix2D(center, 360, 1.5) # rotate 360 degrees clockwise around center of image \n",
    "\n",
    "    rotated = cv2.warpAffine(img, M, (w, h)) # translate rotated image to its center \n",
    "    \n",
    "    \n",
    "    #cv2.imshow(\"Zoom\", rotated)\n",
    "    #cv2.waitKey(0)\n",
    "\n",
    "    #Save\n",
    "    dest_img= os.path.join(\"..\",\"car-segmentation\",\"images\",\"zoom_\"+name_img)\n",
    "    cv2.imwrite(dest_img,rotated)\n",
    "    dest_mask = os.path.join(dest_mask,\"zoom_\"+name_img)\n",
    "    #rotated.save(dest_img)\n",
    "    mask.save(dest_mask)\n",
    "    \n",
    " \n"
   ]
  },
  {
   "cell_type": "code",
   "execution_count": 62,
   "metadata": {},
   "outputs": [],
   "source": [
    "def zoom_left(img, zoom_factor=1.5,name_img = None,mask=None, dest_img=None, dest_mask=None):\n",
    "    # read original \n",
    "    path = os.path.join(\"..\",\"original-dataset\",\"images\",name_img)\n",
    "    #read image file\n",
    "    img = cv2.imread(path)\n",
    "    \n",
    "    (h, w) = img.shape[:2]\n",
    " \n",
    "    # calculate the left of the image\n",
    "    left = (w / 4, h / 4)\n",
    "    \n",
    "    # perform the rotation and translate the image to its left\n",
    "    M1 = cv2.getRotationMatrix2D(left, 360, 1.5) # rotate 360 degrees clockwise around left of image \n",
    "   # rotated = cv2.warpAffine(img, M, (w, h)) # translate rotated image to its center \n",
    "    rotated1 = cv2.warpAffine(img, M1, (w, h)) # translate rotated image to its center \n",
    "    #cv2.imshow(\"Rotated (Correct)\", rotated1)\n",
    "    #cv2.waitKey(0)\n",
    "\n",
    "\n",
    "    #Save\n",
    "    dest_img = os.path.join(\"..\",\"car-segmentation\",\"images\",\"zoom_\"+name_img)\n",
    "    cv2.imwrite(dest_img, rotated1)\n",
    "    dest_mask = os.path.join(dest_mask,\"zoom_\"+name_img)\n",
    "    #rotated1.save(dest_img)\n",
    "    mask.save(dest_mask)"
   ]
  },
  {
   "cell_type": "code",
   "execution_count": 65,
   "metadata": {},
   "outputs": [
    {
     "name": "stdout",
     "output_type": "stream",
     "text": [
      "Eseguo sull'immagine:  1\n",
      "Eseguo sull'immagine:  2\n",
      "Eseguo sull'immagine:  3\n",
      "Eseguo sull'immagine:  4\n"
     ]
    },
    {
     "name": "stderr",
     "output_type": "stream",
     "text": [
      "\n",
      "(eom:215658): EOM-CRITICAL **: 15:27:20.899: eom_list_store_get_pos_by_image: assertion 'EOM_IS_IMAGE (image)' failed\n"
     ]
    },
    {
     "name": "stdout",
     "output_type": "stream",
     "text": [
      "Eseguo sull'immagine:  5\n"
     ]
    },
    {
     "name": "stderr",
     "output_type": "stream",
     "text": [
      "\n",
      "** (gdk-pixbuf-thumbnailer:216016): WARNING **: 15:27:57.472: Could not thumbnail 'file:///tmp/.mate_desktop_thumbnail.9C00Z1': Apertura del file «/tmp/.mate_desktop_thumbnail.9C00Z1» non riuscita: File o directory non esistente\n",
      "\n",
      "** (gdk-pixbuf-thumbnailer:216025): WARNING **: 15:27:57.718: Could not thumbnail 'file:///tmp/.mate_desktop_thumbnail.VF7H01': Apertura del file «/tmp/.mate_desktop_thumbnail.VF7H01» non riuscita: File o directory non esistente\n",
      "\n",
      "(eom:215658): GLib-GObject-CRITICAL **: 15:27:57.720: g_object_unref: assertion 'G_IS_OBJECT (object)' failed\n",
      "\n",
      "** (gdk-pixbuf-thumbnailer:216082): WARNING **: 15:27:59.295: Could not thumbnail 'file:///tmp/.mate_desktop_thumbnail.OHB7Z1': Apertura del file «/tmp/.mate_desktop_thumbnail.OHB7Z1» non riuscita: File o directory non esistente\n",
      "\n",
      "(eom:215658): GLib-GObject-CRITICAL **: 15:27:59.301: g_object_unref: assertion 'G_IS_OBJECT (object)' failed\n",
      "\n",
      "(eom:215658): GLib-GObject-CRITICAL **: 15:27:59.301: g_object_unref: assertion 'G_IS_OBJECT (object)' failed\n",
      "\n",
      "(eom:215658): GLib-GObject-CRITICAL **: 15:27:59.301: g_object_unref: assertion 'G_IS_OBJECT (object)' failed\n",
      "\n",
      "(eom:215658): GLib-GObject-CRITICAL **: 15:27:59.301: g_object_unref: assertion 'G_IS_OBJECT (object)' failed\n",
      "\n",
      "** (gdk-pixbuf-thumbnailer:216091): WARNING **: 15:27:59.598: Could not thumbnail 'file:///tmp/.mate_desktop_thumbnail.IGFYZ1': Apertura del file «/tmp/.mate_desktop_thumbnail.IGFYZ1» non riuscita: File o directory non esistente\n",
      "\n",
      "(eom:215658): GLib-GObject-CRITICAL **: 15:27:59.600: g_object_unref: assertion 'G_IS_OBJECT (object)' failed\n"
     ]
    }
   ],
   "source": [
    "#Get Directory of car-segmentation images\n",
    "parent = os.path.abspath(os.path.join(os.getcwd(), os.pardir)) #parent directory\n",
    "img_folder = os.path.join(parent, \"original-dataset\", \"images\")\n",
    "masks_folder = os.path.join(parent, \"original-dataset\", \"masks\")\n",
    "destination_img_folder = os.path.join(parent, \"car-segmentation\", \"images\") #cartella di destinazione su cui salvare le immagini\n",
    "destination_mask_folder = os.path.join(parent, \"car-segmentation\", \"masks\") #cartella di destinazione su cui salvare le maschere \n",
    "all_images = os.listdir(img_folder)\n",
    "all_masks = os.listdir(masks_folder)\n",
    "\n",
    "for i in range(5): #len(all_images)\n",
    "    print(\"Eseguo sull'immagine: \", i+1)\n",
    "    #immagine\n",
    "    file = all_images[i] #Nome dell'immagine (e della maschera)\n",
    "    image_path = os.path.join(img_folder, file)\n",
    "    img = Image.open(image_path)\n",
    "    #maschera\n",
    "    mask_path = os.path.join(masks_folder,file)\n",
    "    mask = Image.open(mask_path)\n",
    "    \n",
    "    #Operazioni\n",
    "    #1) Mirror orizzonale di ogni immagine\n",
    "    mirror_hor(img,file,mask,destination_img_folder,destination_mask_folder)\n",
    "    \n",
    "    #2) Rumore gaussiano\n",
    "    gaussian_noise(image_path,file,mask,destination_img_folder,destination_mask_folder)\n",
    "    \n",
    "    #3) Colore\n",
    "    color(img,file,mask,destination_img_folder,destination_mask_folder)\n",
    "    \n",
    "    #4) Blur\n",
    "    blur(img,file,mask,destination_img_folder,destination_mask_folder)\n",
    "    \n",
    "    #5) Rotate \n",
    "    rotate(img,file,mask,destination_img_folder,destination_mask_folder)\n",
    "    \n",
    "    #6) scale\n",
    "    zoom_center(img, zoom_factor=1.5,name_img=file, mask=mask, dest_img=destination_img_folder, dest_mask=destination_mask_folder)\n",
    "    zoom_left(img, zoom_factor=1.5,name_img=file, mask=mask, dest_img=destination_img_folder, dest_mask=destination_mask_folder)\n",
    "    \n",
    "    #7) traslazione\n",
    "    #traslate(img,file,mask,destination_img_folder,destination_mask_folder)\n",
    "  "
   ]
  }
 ],
 "metadata": {
  "kernelspec": {
   "display_name": "Python 3",
   "language": "python",
   "name": "python3"
  },
  "language_info": {
   "codemirror_mode": {
    "name": "ipython",
    "version": 3
   },
   "file_extension": ".py",
   "mimetype": "text/x-python",
   "name": "python",
   "nbconvert_exporter": "python",
   "pygments_lexer": "ipython3",
   "version": "3.10.6"
  },
  "orig_nbformat": 4,
  "vscode": {
   "interpreter": {
    "hash": "916dbcbb3f70747c44a77c7bcd40155683ae19c65e1c03b4aa3499c5328201f1"
   }
  }
 },
 "nbformat": 4,
 "nbformat_minor": 2
}
