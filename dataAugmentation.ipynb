{
 "cells": [
  {
   "cell_type": "code",
   "execution_count": 87,
   "metadata": {},
   "outputs": [],
   "source": [
    "import tensorflow as tf\n",
    "import os\n",
    "\n",
    "from tensorflow import keras\n",
    "import random\n",
    "from keras.preprocessing.image import ImageDataGenerator\n",
    "\n",
    "import numpy as np\n",
    "import matplotlib.pyplot as plt\n",
    "import matplotlib.image as mpimg\n",
    "import matplotlib.gridspec as gridspec\n",
    "from PIL import Image, ImageOps, ImageFilter, ImageEnhance  #PILLOW\n",
    "from math import floor, ceil, pi\n",
    "import numpy as np \n",
    "%matplotlib inline"
   ]
  },
  {
   "cell_type": "code",
   "execution_count": 88,
   "metadata": {},
   "outputs": [],
   "source": [
    "#Funzione per fare mirror orizzonale delle immagini e delle relative maschere\n",
    "            #immagine, nome immagine, maschera, salvataggio immagine, salvataggio maschera\n",
    "def mirror_hor(img,name_img,mask,dest_img, dest_mask):\n",
    "    flip_img = ImageOps.mirror(img)\n",
    "    flip_mask = ImageOps.mirror(mask)\n",
    "    dest_img = os.path.join(dest_img,\"trasl_\"+name_img)\n",
    "    dest_mask = os.path.join(dest_mask,\"trasl_\"+name_img)\n",
    "    flip_img.save(dest_img)\n",
    "    flip_mask.save(dest_mask)"
   ]
  },
  {
   "cell_type": "code",
   "execution_count": 89,
   "metadata": {},
   "outputs": [],
   "source": [
    "#Funzione per cambiare il colore di un immagine (la maschera rimane uguale)\n",
    "def color(img,name_img,mask,dest_img,dest_mask):\n",
    "    factor = random.uniform(0.0,3.0) # fattore random per la modifica del colore\n",
    "    new_img = ImageEnhance.Color(img).enhance(factor)\n",
    "    \n",
    "    #Save\n",
    "    dest_img = os.path.join(dest_img,\"col_\"+name_img)\n",
    "    dest_mask = os.path.join(dest_mask,\"col_\"+name_img)\n",
    "    new_img.save(dest_img)\n",
    "    mask.save(dest_mask)"
   ]
  },
  {
   "cell_type": "code",
   "execution_count": 90,
   "metadata": {},
   "outputs": [],
   "source": [
    "#Funzione per aggiungere rumore gaussiano alle immagini (le maschere rimangono uguali)\n",
    "#Aggiunta di pixel di vari colori sull'immagine\n",
    "def gaussian_noise(image_path,name_img,mask,dest_img,dest_mask):\n",
    "    img = Image.open(image_path) #apro l'immagine direttamente qui altrimenti si porta dietro le modifiche\n",
    "    noise = 10 #più è alto minore è\n",
    "    for i in range( round(img.size[0]*img.size[1]/noise) ):\n",
    "        img.putpixel(\n",
    "            (random.randint(0, img.size[0]-1), random.randint(0, img.size[1]-1)),\n",
    "            (random.randint(0,255),random.randint(0,255),random.randint(0,255))\n",
    "        )\n",
    "    #Save\n",
    "    dest_img = os.path.join(dest_img,\"noise_\"+name_img)\n",
    "    dest_mask = os.path.join(dest_mask,\"noise_\"+name_img)\n",
    "    img.save(dest_img)\n",
    "    mask.save(dest_mask)"
   ]
  },
  {
   "cell_type": "code",
   "execution_count": 91,
   "metadata": {},
   "outputs": [],
   "source": [
    "#Funzione per sfocare o definire un'immagine in modo random (maschere uguali)\n",
    "def blur(img,name_img,mask,dest_img,dest_mask):\n",
    "    factor = random.uniform(-2.0,4.0) # fattore random per la modifica del colore\n",
    "    new_img = ImageEnhance.Sharpness(img).enhance(factor)\n",
    "    #new_img.show()\n",
    "    \n",
    "    #Save\n",
    "    dest_img = os.path.join(dest_img,\"blur_\"+name_img)\n",
    "    dest_mask = os.path.join(dest_mask,\"blur_\"+name_img)\n",
    "    new_img.save(dest_img)\n",
    "    mask.save(dest_mask)\n",
    "    "
   ]
  },
  {
   "cell_type": "code",
   "execution_count": 92,
   "metadata": {},
   "outputs": [],
   "source": [
    "#Get Directory of car-segmentation images\n",
    "parent = os.path.abspath(os.path.join(os.getcwd(), os.pardir)) #parent directory\n",
    "img_folder = os.path.join(parent, \"original-dataset\", \"images\")\n",
    "masks_folder = os.path.join(parent, \"original-dataset\", \"masks\")\n",
    "destination_img_folder = os.path.join(parent, \"car-segmentation\", \"images\") #cartella di destinazione su cui salvare le immagini\n",
    "destination_mask_folder = os.path.join(parent, \"car-segmentation\", \"masks\") #cartella di destinazione su cui salvare le maschere \n",
    "all_images = os.listdir(img_folder)\n",
    "all_masks = os.listdir(masks_folder)\n",
    "\n",
    "for i in range(1): #len(all_images)\n",
    "    #immagine\n",
    "    file = all_images[i] #Nome dell'immagine (e della maschera)\n",
    "    image_path = os.path.join(img_folder, file)\n",
    "    img = Image.open(image_path)\n",
    "    #maschera\n",
    "    mask_path = os.path.join(masks_folder,file)\n",
    "    mask = Image.open(mask_path)\n",
    "    \n",
    "    #Operazioni\n",
    "    #1) Mirror orizzonale di ogni immagine\n",
    "    mirror_hor(img,file,mask,destination_img_folder,destination_mask_folder)\n",
    "    \n",
    "    #2) Rumore gaussiano\n",
    "    gaussian_noise(image_path,file,mask,destination_img_folder,destination_mask_folder)\n",
    "    \n",
    "    #3) Colore\n",
    "    color(img,file,mask,destination_img_folder,destination_mask_folder)\n",
    "    \n",
    "    #4) Blur\n",
    "    blur(img,file,mask,destination_img_folder,destination_mask_folder)\n",
    "    \n",
    "  "
   ]
  }
 ],
 "metadata": {
  "kernelspec": {
   "display_name": ".env",
   "language": "python",
   "name": "python3"
  },
  "language_info": {
   "codemirror_mode": {
    "name": "ipython",
    "version": 3
   },
   "file_extension": ".py",
   "mimetype": "text/x-python",
   "name": "python",
   "nbconvert_exporter": "python",
   "pygments_lexer": "ipython3",
   "version": "3.8.10"
  },
  "orig_nbformat": 4,
  "vscode": {
   "interpreter": {
    "hash": "9a13ec52eb9d49a9b33ecfe9930188ddd7d0345e415421bb0e51d90d033ae2a5"
   }
  }
 },
 "nbformat": 4,
 "nbformat_minor": 2
}
