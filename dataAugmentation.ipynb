{
 "cells": [
  {
   "cell_type": "code",
   "execution_count": 1,
   "metadata": {},
   "outputs": [
    {
     "name": "stderr",
     "output_type": "stream",
     "text": [
      "2023-02-10 11:03:02.770167: I tensorflow/core/platform/cpu_feature_guard.cc:193] This TensorFlow binary is optimized with oneAPI Deep Neural Network Library (oneDNN) to use the following CPU instructions in performance-critical operations:  AVX2 FMA\n",
      "To enable them in other operations, rebuild TensorFlow with the appropriate compiler flags.\n",
      "2023-02-10 11:03:03.445417: W tensorflow/stream_executor/platform/default/dso_loader.cc:64] Could not load dynamic library 'libcudart.so.11.0'; dlerror: libcudart.so.11.0: cannot open shared object file: No such file or directory\n",
      "2023-02-10 11:03:03.445492: I tensorflow/stream_executor/cuda/cudart_stub.cc:29] Ignore above cudart dlerror if you do not have a GPU set up on your machine.\n",
      "2023-02-10 11:03:03.556462: E tensorflow/stream_executor/cuda/cuda_blas.cc:2981] Unable to register cuBLAS factory: Attempting to register factory for plugin cuBLAS when one has already been registered\n",
      "2023-02-10 11:03:06.765130: W tensorflow/stream_executor/platform/default/dso_loader.cc:64] Could not load dynamic library 'libnvinfer.so.7'; dlerror: libnvinfer.so.7: cannot open shared object file: No such file or directory\n",
      "2023-02-10 11:03:06.765344: W tensorflow/stream_executor/platform/default/dso_loader.cc:64] Could not load dynamic library 'libnvinfer_plugin.so.7'; dlerror: libnvinfer_plugin.so.7: cannot open shared object file: No such file or directory\n",
      "2023-02-10 11:03:06.765362: W tensorflow/compiler/tf2tensorrt/utils/py_utils.cc:38] TF-TRT Warning: Cannot dlopen some TensorRT libraries. If you would like to use Nvidia GPU with TensorRT, please make sure the missing libraries mentioned above are installed properly.\n"
     ]
    }
   ],
   "source": [
    "import tensorflow as tf\n",
    "import os\n",
    "import cv2 #pip3 install opencv-python\n",
    "\n",
    "from tensorflow import keras\n",
    "import random\n",
    "from keras.preprocessing.image import ImageDataGenerator\n",
    "\n",
    "import numpy as np\n",
    "import matplotlib.pyplot as plt\n",
    "import matplotlib.image as mpimg\n",
    "import matplotlib.gridspec as gridspec\n",
    "from PIL import Image, ImageOps, ImageFilter, ImageEnhance  #PILLOW\n",
    "from math import floor, ceil, pi\n",
    "import numpy as np \n",
    "%matplotlib inline"
   ]
  },
  {
   "cell_type": "code",
   "execution_count": 2,
   "metadata": {},
   "outputs": [],
   "source": [
    "#Funzione per fare mirror orizzonale delle immagini e delle relative maschere\n",
    "            #immagine, nome immagine, maschera, salvataggio immagine, salvataggio maschera\n",
    "def mirror_hor(img,name_img,mask,dest_img, dest_mask):\n",
    "    flip_img = ImageOps.mirror(img)\n",
    "    flip_mask = ImageOps.mirror(mask)\n",
    "    dest_img = os.path.join(dest_img,\"trasl_\"+name_img)\n",
    "    dest_mask = os.path.join(dest_mask,\"trasl_\"+name_img)\n",
    "    flip_img.save(dest_img)\n",
    "    flip_mask.save(dest_mask)"
   ]
  },
  {
   "cell_type": "code",
   "execution_count": 3,
   "metadata": {},
   "outputs": [],
   "source": [
    "#Funzione per cambiare il colore di un immagine (la maschera rimane uguale)\n",
    "def color(img,name_img,mask,dest_img,dest_mask):\n",
    "    img = img.convert(\"RGBA\")\n",
    "    factor = random.uniform(0.0,3.0) # fattore random per la modifica del colore\n",
    "    new_img = ImageEnhance.Color(img).enhance(factor)\n",
    "    \n",
    "    #Save\n",
    "    dest_img = os.path.join(dest_img,\"col_\"+name_img)\n",
    "    dest_mask = os.path.join(dest_mask,\"col_\"+name_img)\n",
    "    new_img.save(dest_img)\n",
    "    mask.save(dest_mask)"
   ]
  },
  {
   "cell_type": "code",
   "execution_count": 4,
   "metadata": {},
   "outputs": [],
   "source": [
    "#Funzione per aggiungere rumore gaussiano alle immagini (le maschere rimangono uguali)\n",
    "#Aggiunta di pixel di vari colori sull'immagine\n",
    "def gaussian_noise(image_path,name_img,mask,dest_img,dest_mask):\n",
    "    path = os.path.join(\"..\",\"original-dataset\",\"images\",name_img)\n",
    "    img = cv2.imread(path) #unico che funziona\n",
    "   \n",
    "    # Generate Gaussian noise\n",
    "    gauss = np.random.normal(0,0.6,img.size)\n",
    "    gauss = gauss.reshape(img.shape[0],img.shape[1],img.shape[2]).astype('uint8')\n",
    "    # Add the Gaussian noise to the image\n",
    "    img_gauss = cv2.add(img,gauss)\n",
    "    \n",
    "    # Display the image\n",
    "    cv2.imshow('a',img_gauss)\n",
    "    cv2.waitKey(0)\n",
    "    path2 = os.path.join(\"..\",\"car-segmentation\",\"images\",\"gauss_\"+name_img)\n",
    "    cv2.imwrite(path2,img_gauss)\n",
    "    dest_mask = os.path.join(dest_mask,\"gauss_\"+name_img)\n",
    "    mask.save(dest_mask)"
   ]
  },
  {
   "cell_type": "code",
   "execution_count": 5,
   "metadata": {},
   "outputs": [],
   "source": [
    "#Funzione per sfocare o definire un'immagine in modo random (maschere uguali)\n",
    "def blur(img,name_img,mask,dest_img,dest_mask):\n",
    "    img = img.convert(\"RGBA\")\n",
    "    \n",
    "    factor = random.uniform(-2.0,4.0) # fattore random per la modifica del colore\n",
    "    new_img = ImageEnhance.Sharpness(img).enhance(factor)\n",
    "    #new_img.show()\n",
    "    \n",
    "    #Save\n",
    "    dest_img = os.path.join(dest_img,\"blur_\"+name_img)\n",
    "    dest_mask = os.path.join(dest_mask,\"blur_\"+name_img)\n",
    "    new_img.save(dest_img)\n",
    "    mask.save(dest_mask)\n",
    "    "
   ]
  },
  {
   "cell_type": "code",
   "execution_count": 6,
   "metadata": {},
   "outputs": [],
   "source": [
    "#Funzione per ruotare di 25° o -25° (random) ogni immagine e ogni maschera\n",
    "def rotate(img,name_img,mask,dest_img,dest_mask):\n",
    "    angle =  random.choice([-25, 25])\n",
    "    new_img = img.rotate(angle)\n",
    "    new_mask = mask.rotate(angle,fillcolor=0) #Colore di background della maschera\n",
    "    #new_mask.show()\n",
    "    \n",
    "    #Save\n",
    "    dest_img = os.path.join(dest_img,\"rot_\"+name_img)\n",
    "    dest_mask = os.path.join(dest_mask,\"rot_\"+name_img)\n",
    "    new_img.save(dest_img)\n",
    "    new_mask.save(dest_mask)\n",
    "    "
   ]
  },
  {
   "cell_type": "code",
   "execution_count": 7,
   "metadata": {},
   "outputs": [],
   "source": [
    "#funzione per scalare le immagini\n",
    "def scale_image(img, scale,name_img,mask,dest_img,dest_mask): \n",
    "  width = int(img.shape[1] * scale) \n",
    "  height = int(img.shape[0] * scale) \n",
    "  dim = (width, height) \n",
    "  \n",
    "  # resize image \n",
    "  resized = cv2.resize(img, dim, interpolation = cv2.INTER_AREA)  \n",
    "  path = os.path.join(\"..\",\"original-dataset\",\"images\",name_img)\n",
    "  #read image file\n",
    "  img = cv2.imread(path)\n",
    "  # scale image\n",
    "  new_image = scale_image(img, 0.5)\n",
    "  new_mask= scale_image(mask, 0.5)\n",
    "  # show image\n",
    "  cv2.imshow(\"Resized image\", resized)\n",
    "  cv2.waitKey(0)\n",
    "    #Save\n",
    "  dest_img = os.path.join(dest_img,\"scale_\"+name_img)\n",
    "  dest_mask = os.path.join(dest_mask,\"scale_\"+name_img)\n",
    "  new_image.save(dest_img)\n",
    "  new_mask.save(dest_mask)\n",
    "  return resized\n",
    "\n",
    "\n"
   ]
  },
  {
   "cell_type": "code",
   "execution_count": 8,
   "metadata": {},
   "outputs": [
    {
     "name": "stdout",
     "output_type": "stream",
     "text": [
      "Eseguo sull'immagine:  1\n",
      "Eseguo sull'immagine:  2\n",
      "Eseguo sull'immagine:  3\n",
      "Eseguo sull'immagine:  4\n",
      "Eseguo sull'immagine:  5\n"
     ]
    }
   ],
   "source": [
    "#Get Directory of car-segmentation images\n",
    "parent = os.path.abspath(os.path.join(os.getcwd(), os.pardir)) #parent directory\n",
    "img_folder = os.path.join(parent, \"original-dataset\", \"images\")\n",
    "masks_folder = os.path.join(parent, \"original-dataset\", \"masks\")\n",
    "destination_img_folder = os.path.join(parent, \"car-segmentation\", \"images\") #cartella di destinazione su cui salvare le immagini\n",
    "destination_mask_folder = os.path.join(parent, \"car-segmentation\", \"masks\") #cartella di destinazione su cui salvare le maschere \n",
    "all_images = os.listdir(img_folder)\n",
    "all_masks = os.listdir(masks_folder)\n",
    "\n",
    "for i in range(5): #len(all_images)\n",
    "    print(\"Eseguo sull'immagine: \", i+1)\n",
    "    #immagine\n",
    "    file = all_images[i] #Nome dell'immagine (e della maschera)\n",
    "    image_path = os.path.join(img_folder, file)\n",
    "    img = Image.open(image_path)\n",
    "    #maschera\n",
    "    mask_path = os.path.join(masks_folder,file)\n",
    "    mask = Image.open(mask_path)\n",
    "    \n",
    "    #Operazioni\n",
    "    #1) Mirror orizzonale di ogni immagine\n",
    "    mirror_hor(img,file,mask,destination_img_folder,destination_mask_folder)\n",
    "    \n",
    "    #2) Rumore gaussiano\n",
    "    gaussian_noise(image_path,file,mask,destination_img_folder,destination_mask_folder)\n",
    "    \n",
    "    #3) Colore\n",
    "    color(img,file,mask,destination_img_folder,destination_mask_folder)\n",
    "    \n",
    "    #4) Blur\n",
    "    blur(img,file,mask,destination_img_folder,destination_mask_folder)\n",
    "    \n",
    "    #5) Rotate \n",
    "    rotate(img,file,mask,destination_img_folder,destination_mask_folder)\n",
    "    \n",
    "  "
   ]
  }
 ],
 "metadata": {
  "kernelspec": {
   "display_name": "Python 3",
   "language": "python",
   "name": "python3"
  },
  "language_info": {
   "codemirror_mode": {
    "name": "ipython",
    "version": 3
   },
   "file_extension": ".py",
   "mimetype": "text/x-python",
   "name": "python",
   "nbconvert_exporter": "python",
   "pygments_lexer": "ipython3",
   "version": "3.10.6"
  },
  "orig_nbformat": 4,
  "vscode": {
   "interpreter": {
    "hash": "916dbcbb3f70747c44a77c7bcd40155683ae19c65e1c03b4aa3499c5328201f1"
   }
  }
 },
 "nbformat": 4,
 "nbformat_minor": 2
}
